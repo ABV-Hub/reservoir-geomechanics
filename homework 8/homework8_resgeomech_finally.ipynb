{
  "nbformat": 4,
  "nbformat_minor": 0,
  "metadata": {
    "colab": {
      "name": "homework8-resgeomech-finally.ipynb",
      "provenance": [],
      "collapsed_sections": [],
      "toc_visible": true,
      "authorship_tag": "ABX9TyP5rmNQCfjAFnR/3GowHwk5",
      "include_colab_link": true
    },
    "kernelspec": {
      "name": "python3",
      "display_name": "Python 3"
    }
  },
  "cells": [
    {
      "cell_type": "markdown",
      "metadata": {
        "id": "view-in-github",
        "colab_type": "text"
      },
      "source": [
        "<a href=\"https://colab.research.google.com/github/yohanesnuwara/reservoir-geomechanics/blob/master/homework%208/homework8_resgeomech_finally.ipynb\" target=\"_parent\"><img src=\"https://colab.research.google.com/assets/colab-badge.svg\" alt=\"Open In Colab\"/></a>"
      ]
    },
    {
      "cell_type": "markdown",
      "metadata": {
        "id": "JCj9nYuMFStg",
        "colab_type": "text"
      },
      "source": [
        "# **Homework 8. Identifying Critically Stressed Fractures**"
      ]
    },
    {
      "cell_type": "code",
      "metadata": {
        "id": "411btcF4FChq",
        "colab_type": "code",
        "colab": {}
      },
      "source": [
        "import numpy as np\n",
        "import matplotlib.pyplot as plt\n",
        "import pandas as pd"
      ],
      "execution_count": 0,
      "outputs": []
    },
    {
      "cell_type": "code",
      "metadata": {
        "id": "5sLQ1fbNGkTb",
        "colab_type": "code",
        "outputId": "00aae89b-9d94-49bc-c218-31fd9f87c825",
        "colab": {
          "base_uri": "https://localhost:8080/",
          "height": 140
        }
      },
      "source": [
        "!git clone https://github.com/yohanesnuwara/reservoir-geomechanics"
      ],
      "execution_count": 0,
      "outputs": [
        {
          "output_type": "stream",
          "text": [
            "Cloning into 'reservoir-geomechanics'...\n",
            "remote: Enumerating objects: 95, done.\u001b[K\n",
            "remote: Counting objects: 100% (95/95), done.\u001b[K\n",
            "remote: Compressing objects: 100% (95/95), done.\u001b[K\n",
            "remote: Total 230 (delta 42), reused 0 (delta 0), pack-reused 135\u001b[K\n",
            "Receiving objects: 100% (230/230), 13.92 MiB | 34.26 MiB/s, done.\n",
            "Resolving deltas: 100% (98/98), done.\n"
          ],
          "name": "stdout"
        }
      ]
    },
    {
      "cell_type": "markdown",
      "metadata": {
        "id": "3ESsWM2pIf-c",
        "colab_type": "text"
      },
      "source": [
        "Access dip data from Barnett fracture data in Homework 5"
      ]
    },
    {
      "cell_type": "code",
      "metadata": {
        "id": "EUqN4mXIIlkr",
        "colab_type": "code",
        "outputId": "d48eb2d7-8949-4937-a950-ca4dcb008130",
        "colab": {
          "base_uri": "https://localhost:8080/",
          "height": 963
        }
      },
      "source": [
        "fracture = pd.read_csv('/content/reservoir-geomechanics/homework 5/Barnett_fractures.csv')\n",
        "\n",
        "frac_depth = fracture.depth\n",
        "frac_dip = fracture.dip\n",
        "\n",
        "# visualize the dip data\n",
        "plt.figure(figsize=(4,10))\n",
        "plt.plot(frac_dip, frac_depth, '.', color='blue')\n",
        "plt.title(\"Barnett Dip Log\", pad=20, size=15)\n",
        "plt.xlabel(\"Dip (degrees)\"); plt.ylabel(\"Depth (ft)\")\n",
        "plt.grid(True)\n",
        "plt.gca().invert_yaxis()\n",
        "\n",
        "fracture.head(10)"
      ],
      "execution_count": 0,
      "outputs": [
        {
          "output_type": "execute_result",
          "data": {
            "text/html": [
              "<div>\n",
              "<style scoped>\n",
              "    .dataframe tbody tr th:only-of-type {\n",
              "        vertical-align: middle;\n",
              "    }\n",
              "\n",
              "    .dataframe tbody tr th {\n",
              "        vertical-align: top;\n",
              "    }\n",
              "\n",
              "    .dataframe thead th {\n",
              "        text-align: right;\n",
              "    }\n",
              "</style>\n",
              "<table border=\"1\" class=\"dataframe\">\n",
              "  <thead>\n",
              "    <tr style=\"text-align: right;\">\n",
              "      <th></th>\n",
              "      <th>depth</th>\n",
              "      <th>strike</th>\n",
              "      <th>dip</th>\n",
              "      <th>dip_direction</th>\n",
              "      <th>aperture</th>\n",
              "    </tr>\n",
              "  </thead>\n",
              "  <tbody>\n",
              "    <tr>\n",
              "      <th>0</th>\n",
              "      <td>5200.824</td>\n",
              "      <td>228.25</td>\n",
              "      <td>76.41</td>\n",
              "      <td>318.25</td>\n",
              "      <td>4.31</td>\n",
              "    </tr>\n",
              "    <tr>\n",
              "      <th>1</th>\n",
              "      <td>5200.965</td>\n",
              "      <td>207.80</td>\n",
              "      <td>86.11</td>\n",
              "      <td>297.80</td>\n",
              "      <td>5.87</td>\n",
              "    </tr>\n",
              "    <tr>\n",
              "      <th>2</th>\n",
              "      <td>5205.068</td>\n",
              "      <td>233.97</td>\n",
              "      <td>84.07</td>\n",
              "      <td>323.97</td>\n",
              "      <td>7.22</td>\n",
              "    </tr>\n",
              "    <tr>\n",
              "      <th>3</th>\n",
              "      <td>5208.820</td>\n",
              "      <td>206.68</td>\n",
              "      <td>82.67</td>\n",
              "      <td>296.68</td>\n",
              "      <td>5.52</td>\n",
              "    </tr>\n",
              "    <tr>\n",
              "      <th>4</th>\n",
              "      <td>5221.970</td>\n",
              "      <td>214.65</td>\n",
              "      <td>77.20</td>\n",
              "      <td>304.65</td>\n",
              "      <td>5.44</td>\n",
              "    </tr>\n",
              "    <tr>\n",
              "      <th>5</th>\n",
              "      <td>5232.421</td>\n",
              "      <td>211.99</td>\n",
              "      <td>79.37</td>\n",
              "      <td>301.99</td>\n",
              "      <td>9.95</td>\n",
              "    </tr>\n",
              "    <tr>\n",
              "      <th>6</th>\n",
              "      <td>5248.538</td>\n",
              "      <td>214.61</td>\n",
              "      <td>79.88</td>\n",
              "      <td>304.61</td>\n",
              "      <td>12.24</td>\n",
              "    </tr>\n",
              "    <tr>\n",
              "      <th>7</th>\n",
              "      <td>5252.678</td>\n",
              "      <td>226.41</td>\n",
              "      <td>84.78</td>\n",
              "      <td>316.41</td>\n",
              "      <td>10.21</td>\n",
              "    </tr>\n",
              "    <tr>\n",
              "      <th>8</th>\n",
              "      <td>5269.203</td>\n",
              "      <td>245.50</td>\n",
              "      <td>80.63</td>\n",
              "      <td>335.50</td>\n",
              "      <td>8.22</td>\n",
              "    </tr>\n",
              "    <tr>\n",
              "      <th>9</th>\n",
              "      <td>5280.625</td>\n",
              "      <td>238.08</td>\n",
              "      <td>81.70</td>\n",
              "      <td>328.08</td>\n",
              "      <td>2.67</td>\n",
              "    </tr>\n",
              "  </tbody>\n",
              "</table>\n",
              "</div>"
            ],
            "text/plain": [
              "      depth  strike    dip  dip_direction  aperture\n",
              "0  5200.824  228.25  76.41         318.25      4.31\n",
              "1  5200.965  207.80  86.11         297.80      5.87\n",
              "2  5205.068  233.97  84.07         323.97      7.22\n",
              "3  5208.820  206.68  82.67         296.68      5.52\n",
              "4  5221.970  214.65  77.20         304.65      5.44\n",
              "5  5232.421  211.99  79.37         301.99      9.95\n",
              "6  5248.538  214.61  79.88         304.61     12.24\n",
              "7  5252.678  226.41  84.78         316.41     10.21\n",
              "8  5269.203  245.50  80.63         335.50      8.22\n",
              "9  5280.625  238.08  81.70         328.08      2.67"
            ]
          },
          "metadata": {
            "tags": []
          },
          "execution_count": 11
        },
        {
          "output_type": "display_data",
          "data": {
            "image/png": "[encoded data removed]",
            "text/plain": [
              "<Figure size 288x720 with 1 Axes>"
            ]
          },
          "metadata": {
            "tags": []
          }
        }
      ]
    },
    {
      "cell_type": "markdown",
      "metadata": {
        "id": "d-9IicG6LcDw",
        "colab_type": "text"
      },
      "source": [
        "## Information\n",
        "\n",
        "At depth 5725 ft\n",
        "\n",
        "The maximum horizontal stress ($SH$) is assumed to be the lower bound of $SH$ in Homework 7. Because the minimum horizontal stress ($Sh$) measured from LOT is 3721.25 psi and the $SH$ lower bound is 3721.25 psi, therefore $Sh=SH<Sv$ or in regime **radial extension**\n",
        "\n",
        "* Sv gradient from HW 1\n",
        "* Pore pressure gradient from HW 7\n",
        "* Friction coefficient from HW 7\n",
        "* Shmin gradient from HW 7\n",
        "* SHmax gradient from HW 7 (as lower bound of SHmax)"
      ]
    },
    {
      "cell_type": "code",
      "metadata": {
        "id": "T58AZsbFNF-O",
        "colab_type": "code",
        "outputId": "c61f2bf7-7ee0-4d6b-af47-43ae2cfd0c05",
        "colab": {
          "base_uri": "https://localhost:8080/",
          "height": 637
        }
      },
      "source": [
        "depth = 5725 # ft\n",
        "\n",
        "# from homework 7\n",
        "Sh = 3721.25 # psi\n",
        "SH = Sh\n",
        "Sv = 6374.8\n",
        "Pp = 2748\n",
        "mu = 0.75\n",
        "\n",
        "# gradient of stresses\n",
        "Sh_grad = Sh / depth\n",
        "SH_grad = Sh_grad\n",
        "Sv_grad = Sv / depth\n",
        "Pp_grad = Pp / depth\n",
        "\n",
        "# visualize the stress data\n",
        "plt.figure(figsize=(4,10))\n",
        "p1 = plt.plot((frac_depth * Sh_grad), frac_depth, '.', color='blue')\n",
        "p2 = plt.plot((frac_depth * SH_grad), frac_depth, '.', color='red')\n",
        "p3 = plt.plot((frac_depth * Sv_grad), frac_depth, '.', color='black')\n",
        "p4 = plt.plot((frac_depth * Pp_grad), frac_depth, '.', color='green')\n",
        "\n",
        "plt.title(\"Barnett Stress/Pressure Profile\", pad=20, size=15)\n",
        "plt.legend((p1[0], p2[0], p3[0], p4[0]), (['Shmin', 'SHmax', 'Sv', 'Pore pressure']))\n",
        "plt.xlabel(\"Stress/Pressure (psi)\"); plt.ylabel(\"Depth (ft)\")\n",
        "plt.grid(True)\n",
        "plt.gca().invert_yaxis()"
      ],
      "execution_count": 0,
      "outputs": [
        {
          "output_type": "display_data",
          "data": {
            "image/png": "[encoded data removed]",
            "text/plain": [
              "<Figure size 288x720 with 1 Axes>"
            ]
          },
          "metadata": {
            "tags": []
          }
        }
      ]
    },
    {
      "cell_type": "markdown",
      "metadata": {
        "id": "3KRTZTKMJIqe",
        "colab_type": "text"
      },
      "source": [
        "## Question 1a. From the first homework assignment, what is the calculated gradient of the overburden stress of the site at 5725 feet depth in psi/ft?"
      ]
    },
    {
      "cell_type": "code",
      "metadata": {
        "id": "49NuF2l_KCE_",
        "colab_type": "code",
        "outputId": "4ee18547-3b5c-4ef4-8ac1-0a51d042e82a",
        "colab": {
          "base_uri": "https://localhost:8080/",
          "height": 34
        }
      },
      "source": [
        "print('Gradient of overburden stress:', Sv_grad, 'psi/ft')"
      ],
      "execution_count": 0,
      "outputs": [
        {
          "output_type": "stream",
          "text": [
            "Gradient of overburden stress: 1.1135021834061136 psi/ft\n"
          ],
          "name": "stdout"
        }
      ]
    },
    {
      "cell_type": "markdown",
      "metadata": {
        "id": "RuGXrExmKGJN",
        "colab_type": "text"
      },
      "source": [
        "## Question 1b. From the seventh homework assignment, what is the given gradient of the minimum horizontal stress of the site at 5725 feet depth in psi/ft?"
      ]
    },
    {
      "cell_type": "code",
      "metadata": {
        "id": "2vdatmfCKLrS",
        "colab_type": "code",
        "outputId": "0d41f682-2cdf-48a7-aec9-61f103f37015",
        "colab": {
          "base_uri": "https://localhost:8080/",
          "height": 34
        }
      },
      "source": [
        "print('Gradient of minimum horizontal stress:', Sh_grad, 'psi/ft')"
      ],
      "execution_count": 0,
      "outputs": [
        {
          "output_type": "stream",
          "text": [
            "Gradient of minimum horizontal stress: 0.65 psi/ft\n"
          ],
          "name": "stdout"
        }
      ]
    },
    {
      "cell_type": "markdown",
      "metadata": {
        "id": "mdQh3al3KSZu",
        "colab_type": "text"
      },
      "source": [
        "## Question 1c. From the seventh homework assignment, what is the estimated lower bound of the gradient of the maximum horizontal stress of the site at 5725 feet depth in psi/ft?"
      ]
    },
    {
      "cell_type": "code",
      "metadata": {
        "id": "cG0ZJJClKWDu",
        "colab_type": "code",
        "outputId": "6424a626-73e0-4a25-93d0-2d6fa6ac4fea",
        "colab": {
          "base_uri": "https://localhost:8080/",
          "height": 34
        }
      },
      "source": [
        "print('Gradient of maximum horizontal stress:', SH_grad, 'psi/ft')"
      ],
      "execution_count": 0,
      "outputs": [
        {
          "output_type": "stream",
          "text": [
            "Gradient of maximum horizontal stress: 0.65 psi/ft\n"
          ],
          "name": "stdout"
        }
      ]
    },
    {
      "cell_type": "markdown",
      "metadata": {
        "id": "_AojBPfgKaGw",
        "colab_type": "text"
      },
      "source": [
        "## Question 1d. From the seventh homework assignment, what is the given gradient of the pore pressure of the site at 5725 feet depth in psi/ft?"
      ]
    },
    {
      "cell_type": "code",
      "metadata": {
        "id": "JruesN_3Kk-G",
        "colab_type": "code",
        "outputId": "bd0c3d0d-27fc-4f93-c635-28bed35743a4",
        "colab": {
          "base_uri": "https://localhost:8080/",
          "height": 34
        }
      },
      "source": [
        "print('Gradient of pore pressure:', Pp_grad, 'psi/ft')"
      ],
      "execution_count": 0,
      "outputs": [
        {
          "output_type": "stream",
          "text": [
            "Gradient of pore pressure: 0.48 psi/ft\n"
          ],
          "name": "stdout"
        }
      ]
    },
    {
      "cell_type": "markdown",
      "metadata": {
        "id": "V-JMqpj2KtR0",
        "colab_type": "text"
      },
      "source": [
        "## Question 1e. From the seventh homework assignment, what is the given coefficient of sliding friction of the site at 5725 feet depth?"
      ]
    },
    {
      "cell_type": "code",
      "metadata": {
        "id": "4aAK5EJNKyJ0",
        "colab_type": "code",
        "outputId": "11572731-2ab4-484d-eb2f-e63412abeb8c",
        "colab": {
          "base_uri": "https://localhost:8080/",
          "height": 34
        }
      },
      "source": [
        "print('Coefficient of sliding friction:', mu)"
      ],
      "execution_count": 0,
      "outputs": [
        {
          "output_type": "stream",
          "text": [
            "Coefficient of sliding friction: 0.75\n"
          ],
          "name": "stdout"
        }
      ]
    },
    {
      "cell_type": "markdown",
      "metadata": {
        "id": "KlAQuTw6K8zp",
        "colab_type": "text"
      },
      "source": [
        "## Question 2a. How many fractures are critically stressed with the condition given above?\n",
        "\n",
        "* $\\mu=0.75$\n",
        "* $\\Delta Pp=0.48 psi/ft$"
      ]
    },
    {
      "cell_type": "markdown",
      "metadata": {
        "id": "CTEcLLW6ed5N",
        "colab_type": "text"
      },
      "source": [
        "Mohr-Coulomb Diagram"
      ]
    },
    {
      "cell_type": "code",
      "metadata": {
        "id": "x7apAEKnejr_",
        "colab_type": "code",
        "outputId": "76214eed-77cc-495e-b661-0a1837482679",
        "colab": {
          "base_uri": "https://localhost:8080/",
          "height": 627
        }
      },
      "source": [
        "# principal stresses\n",
        "S1 = frac_depth * Sv_grad\n",
        "S3 = frac_depth * Sh_grad\n",
        "Pp = frac_depth * Pp_grad\n",
        "\n",
        "# effective normal stress and shear stress\n",
        "normal = (0.5 * (S1 + S3)) + (0.5 * (S1 - S3) * np.cos(np.deg2rad(2 * frac_dip)))\n",
        "normal_eff = normal - Pp\n",
        "shear = 0.5 * (S1 - S3) * np.sin(np.deg2rad(2 * frac_dip))\n",
        "\n",
        "# failure envelope\n",
        "normal_env = np.linspace(0, max(normal_eff), 10)\n",
        "mu = 0.75\n",
        "shear_env = mu * normal_env\n",
        "\n",
        "plt.figure(figsize=(20,10))\n",
        "plt.plot(normal_env, shear_env)\n",
        "plt.scatter(normal_eff, shear, c=frac_dip, s=20, cmap='gist_rainbow')\n",
        "plt.xlim(xmin=0)\n",
        "plt.ylim(ymin=0)\n",
        "plt.colorbar()\n",
        "plt.gca().set_aspect('equal')\n",
        "\n",
        "# counting critically stressed fractures\n",
        "envelope = mu * normal_eff\n",
        "difference = envelope - shear\n",
        "\n",
        "critical = [i for i in difference if i < 0] \n",
        "critical_count_1 = len(critical) \n",
        "print(\"Number of critical fractures: \", critical_count_1, \"\\n\") "
      ],
      "execution_count": 0,
      "outputs": [
        {
          "output_type": "stream",
          "text": [
            "Number of critical fractures:  0 \n",
            "\n"
          ],
          "name": "stdout"
        },
        {
          "output_type": "display_data",
          "data": {
            "image/png": "[encoded data removed]",
            "text/plain": [
              "<Figure size 1440x720 with 2 Axes>"
            ]
          },
          "metadata": {
            "tags": []
          }
        }
      ]
    },
    {
      "cell_type": "markdown",
      "metadata": {
        "id": "1EnwLZMCYDvq",
        "colab_type": "text"
      },
      "source": [
        "## Question 2b. How many fractures are critically stressed if the pore pressure gradient is 0.52 psi/ft (Montgomery et al., 2005)?\n",
        "\n",
        "* $\\mu=0.75$\n",
        "* $\\Delta Pp=0.52 psi/ft$ "
      ]
    },
    {
      "cell_type": "code",
      "metadata": {
        "id": "U8l5SZA1Yz1a",
        "colab_type": "code",
        "outputId": "9325f99d-6660-427f-f67f-5c0f2acc0411",
        "colab": {
          "base_uri": "https://localhost:8080/",
          "height": 627
        }
      },
      "source": [
        "# principal stresses\n",
        "S1 = frac_depth * Sv_grad\n",
        "S3 = frac_depth * Sh_grad\n",
        "Pp = frac_depth * 0.52\n",
        "\n",
        "# effective normal stress and shear stress\n",
        "normal = (0.5 * (S1 + S3)) + (0.5 * (S1 - S3) * np.cos(np.deg2rad(2 * frac_dip)))\n",
        "normal_eff = normal - Pp\n",
        "shear = 0.5 * (S1 - S3) * np.sin(np.deg2rad(2 * frac_dip))\n",
        "\n",
        "# failure envelope\n",
        "normal_env = np.linspace(0, max(normal_eff), 10)\n",
        "mu = 0.75\n",
        "shear_env = mu * normal_env\n",
        "\n",
        "plt.figure(figsize=(20,10))\n",
        "plt.plot(normal_env, shear_env)\n",
        "plt.scatter(normal_eff, shear, c=frac_dip, s=20, cmap='gist_rainbow')\n",
        "plt.xlim(xmin=0)\n",
        "plt.ylim(ymin=0)\n",
        "plt.colorbar()\n",
        "plt.gca().set_aspect('equal')\n",
        "\n",
        "# counting critically stressed fractures\n",
        "envelope = mu * normal_eff\n",
        "difference = envelope - shear\n",
        "\n",
        "critical = [i for i in difference if i < 0] \n",
        "critical_count_2 = len(critical) \n",
        "print(\"Number of critical fractures: \", critical_count_2, \"\\n\") "
      ],
      "execution_count": 0,
      "outputs": [
        {
          "output_type": "stream",
          "text": [
            "Number of critical fractures:  3 \n",
            "\n"
          ],
          "name": "stdout"
        },
        {
          "output_type": "display_data",
          "data": {
            "image/png": "[encoded data removed]",
            "text/plain": [
              "<Figure size 1440x720 with 2 Axes>"
            ]
          },
          "metadata": {
            "tags": []
          }
        }
      ]
    },
    {
      "cell_type": "markdown",
      "metadata": {
        "id": "Z_7hmQQxaAKT",
        "colab_type": "text"
      },
      "source": [
        "## Question 2c. How many fractures are critically stressed if the frictional sliding coefficient is 0.45 (Kohli and Zoback, 2013)?\n",
        "\n",
        "* $\\mu=0.45$\n",
        "* $\\Delta Pp=0.48 psi/ft$ "
      ]
    },
    {
      "cell_type": "code",
      "metadata": {
        "id": "Q6ZMMDkSaPj-",
        "colab_type": "code",
        "outputId": "e409038a-653a-4565-bd7c-ac14259e7c31",
        "colab": {
          "base_uri": "https://localhost:8080/",
          "height": 610
        }
      },
      "source": [
        "# principal stresses\n",
        "S1 = frac_depth * Sv_grad\n",
        "S3 = frac_depth * Sh_grad\n",
        "Pp = frac_depth * Pp_grad\n",
        "\n",
        "# effective normal stress and shear stress\n",
        "normal = (0.5 * (S1 + S3)) + (0.5 * (S1 - S3) * np.cos(np.deg2rad(2 * frac_dip)))\n",
        "normal_eff = normal - Pp\n",
        "shear = 0.5 * (S1 - S3) * np.sin(np.deg2rad(2 * frac_dip))\n",
        "\n",
        "# failure envelope\n",
        "normal_env = np.linspace(0, max(normal_eff), 10)\n",
        "mu = 0.45\n",
        "shear_env = mu * normal_env\n",
        "\n",
        "plt.figure(figsize=(20,10))\n",
        "plt.plot(normal_env, shear_env)\n",
        "plt.scatter(normal_eff, shear, c=frac_dip, s=20, cmap='gist_rainbow')\n",
        "plt.xlim(xmin=0)\n",
        "plt.ylim(ymin=0)\n",
        "plt.colorbar()\n",
        "plt.gca().set_aspect('equal')\n",
        "\n",
        "# counting critically stressed fractures\n",
        "envelope = mu * normal_eff\n",
        "difference = envelope - shear\n",
        "\n",
        "critical = [i for i in difference if i < 0] \n",
        "critical_count_3 = len(critical) \n",
        "print(\"Number of critical fractures: \", critical_count_3, \"\\n\") "
      ],
      "execution_count": 0,
      "outputs": [
        {
          "output_type": "stream",
          "text": [
            "Number of critical fractures:  10 \n",
            "\n"
          ],
          "name": "stdout"
        },
        {
          "output_type": "display_data",
          "data": {
            "image/png": "[encoded data removed]",
            "text/plain": [
              "<Figure size 1440x720 with 2 Axes>"
            ]
          },
          "metadata": {
            "tags": []
          }
        }
      ]
    }
  ]
}
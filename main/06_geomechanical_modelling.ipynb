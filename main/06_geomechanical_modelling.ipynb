{
  "nbformat": 4,
  "nbformat_minor": 0,
  "metadata": {
    "colab": {
      "name": "06_geomechanical_modelling.ipynb",
      "provenance": [],
      "authorship_tag": "ABX9TyN+oK7U8T0QwR5cWpskN40v",
      "include_colab_link": true
    },
    "kernelspec": {
      "name": "python3",
      "display_name": "Python 3"
    }
  },
  "cells": [
    {
      "cell_type": "markdown",
      "metadata": {
        "id": "view-in-github",
        "colab_type": "text"
      },
      "source": [
        "<a href=\"https://colab.research.google.com/github/yohanesnuwara/reservoir-geomechanics/blob/master/main/06_geomechanical_modelling.ipynb\" target=\"_parent\"><img src=\"https://colab.research.google.com/assets/colab-badge.svg\" alt=\"Open In Colab\"/></a>"
      ]
    },
    {
      "cell_type": "code",
      "metadata": {
        "id": "JFY_0TTwVbVG",
        "colab_type": "code",
        "colab": {}
      },
      "source": [
        "import numpy as np\n",
        "import matplotlib.pyplot as plt\n",
        "import pandas as pd"
      ],
      "execution_count": 0,
      "outputs": []
    },
    {
      "cell_type": "markdown",
      "metadata": {
        "id": "93TwiPkoV8Vj",
        "colab_type": "text"
      },
      "source": [
        "Data of stress and pore pressure gradient in KTB-1 (data of Rubianto, 2011)"
      ]
    },
    {
      "cell_type": "code",
      "metadata": {
        "id": "PfzQTYHyV4kc",
        "colab_type": "code",
        "colab": {}
      },
      "source": [
        "# hydrostatic line, psi/ft\n",
        "Sv_hyd = 0.92; Sh_hyd = 0.75; SH_hyd = 1.52; Pp_hyd = 0.43\n",
        "# overpressure line\n",
        "Sv_ovp = 0.92; Sh_ovp = 0.77; SH_ovp = 1.25; Pp_ovp = 0.54"
      ],
      "execution_count": 0,
      "outputs": []
    },
    {
      "cell_type": "markdown",
      "metadata": {
        "id": "6iVyt6S8aBtL",
        "colab_type": "text"
      },
      "source": [
        "Depth of formation tops"
      ]
    },
    {
      "cell_type": "code",
      "metadata": {
        "id": "MiZ9e0OKaFwi",
        "colab_type": "code",
        "colab": {}
      },
      "source": [
        "# formation name\n",
        "topname = ['Ledok', 'Wonocolo', 'Ngrayong', 'Tuban', 'Kujung']\n",
        "topdepth = [275, 340, 1053, 1637, 2777, 3300]"
      ],
      "execution_count": 0,
      "outputs": []
    },
    {
      "cell_type": "markdown",
      "metadata": {
        "id": "PhxXICEBbaqT",
        "colab_type": "text"
      },
      "source": [
        "Overpressure in Tuban formation"
      ]
    },
    {
      "cell_type": "code",
      "metadata": {
        "id": "XoeL1WoLbf3V",
        "colab_type": "code",
        "colab": {}
      },
      "source": [
        "top_ovp_depth = topdepth[3]\n",
        "bottom_ovp_depth = topdepth[4]"
      ],
      "execution_count": 0,
      "outputs": []
    },
    {
      "cell_type": "markdown",
      "metadata": {
        "id": "QhPZI_4RcFTa",
        "colab_type": "text"
      },
      "source": [
        "Maximum allowed pore pressure, from equation (Zoback, 2007):\n",
        "\n",
        "$$\\frac{\\sigma_1}{\\sigma_3}=\\frac{S_1-P_p}{S_3-P_p}=[\\sqrt{\\mu^2+1}+\\mu]^2$$\n",
        "\n",
        "Re-arranging the equation to find $P_p$\n",
        "\n",
        "$$P_p=\\frac{S_1 - S_3 \\cdot [\\sqrt{\\mu^2+1}+\\mu]^2}{1-[\\sqrt{\\mu^2+1}+\\mu]^2}$$"
      ]
    },
    {
      "cell_type": "code",
      "metadata": {
        "id": "qQT4-xm_twfN",
        "colab_type": "code",
        "outputId": "4de57079-3a68-4b2e-e3ef-f5fef128733f",
        "colab": {
          "base_uri": "https://localhost:8080/",
          "height": 117
        }
      },
      "source": [
        "# stress at depth 3400 m (injection point in Kujung), hydrostatic\n",
        "depth = 3400 * 3.28084 # convert to ft\n",
        "Sv_kujung = depth * Sv_hyd\n",
        "print(\"Vertical stress magnitude:\", Sv_kujung, \"psi\")\n",
        "SH_kujung = depth * SH_hyd\n",
        "print(\"Maximum horizontal stress magnitude:\", SH_kujung, \"psi\")\n",
        "Sh_kujung = depth * Sh_hyd\n",
        "print(\"Minimum horizontal stress magnitude:\", Sh_kujung, \"psi\")\n",
        "Pp_kujung = depth * Pp_hyd\n",
        "print(\"Pore pressure magnitude:\", Pp_kujung, \"psi\")\n",
        "\n",
        "# classify stresses as S1, S2, S3\n",
        "stresses = np.sort(np.array([Sv_kujung, SH_kujung, Sh_kujung]))\n",
        "S1 = stresses[2]; S2 = stresses[1]; S3 = stresses[0]\n",
        "print(\"S1:\", S1, \"psi, S2:\", S2, \"psi, S3:\", S3, \"psi\")\n",
        "\n",
        "# regime according to E. M. Anderson theory\n",
        "if Sv_kujung < Sh_kujung and Sh_kujung < SH_kujung:\n",
        "  print(\"Regime is REVERSE (Sv < Sh < SH)\")\n",
        "if Sh_kujung < Sv_kujung and Sv_kujung < SH_kujung:\n",
        "  print(\"Regime is STRIKE-SLIP (Sh < Sv < SH)\")\n",
        "if Sh_kujung < SH_kujung and SH_kujung < Sv_kujung:\n",
        "  print(\"Regime is STRIKE-SLIP (Sh < SH < Sv)\")"
      ],
      "execution_count": 0,
      "outputs": [
        {
          "output_type": "stream",
          "text": [
            "Vertical stress magnitude: 10262.46752 psi\n",
            "Maximum horizontal stress magnitude: 16955.38112 psi\n",
            "Minimum horizontal stress magnitude: 8366.142 psi\n",
            "Pore pressure magnitude: 4796.5880799999995 psi\n",
            "S1: 16955.38112 psi, S2: 10262.46752 psi, S3: 8366.142 psi\n",
            "Regime is STRIKE-SLIP (Sh < Sv < SH)\n"
          ],
          "name": "stdout"
        }
      ]
    },
    {
      "cell_type": "code",
      "metadata": {
        "id": "S8Blm4ZzsWPt",
        "colab_type": "code",
        "outputId": "814ae1b7-29f9-4cd3-f93f-d4f55ead7056",
        "colab": {
          "base_uri": "https://localhost:8080/",
          "height": 33
        }
      },
      "source": [
        "mu = 0.5317\n",
        "ratio = ((np.sqrt(mu**2 + 1)) + mu)**2\n",
        "print(\"The ratio of effective stress 1 to effective stress 3:\", ratio)"
      ],
      "execution_count": 0,
      "outputs": [
        {
          "output_type": "stream",
          "text": [
            "The ratio of effective stress 1 to effective stress 3: 2.7697800633097662\n"
          ],
          "name": "stdout"
        }
      ]
    }
  ]
}
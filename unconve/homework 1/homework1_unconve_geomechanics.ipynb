{
  "nbformat": 4,
  "nbformat_minor": 0,
  "metadata": {
    "colab": {
      "name": "homework1-unconve-geomechanics.ipynb",
      "provenance": [],
      "collapsed_sections": [
        "I_LcXVk7awR3",
        "VBd3mpqwtq2i",
        "D_C2J4y0wyXa",
        "bRH4OGMKxhVB",
        "evJ-Jzo02QoL",
        "_qXOB1E21RZd",
        "DxPJL4fi1xW2",
        "Zs7ir3Dk75Ls"
      ],
      "authorship_tag": "ABX9TyMA0LcqyeLzK+vzv74Kjaxx",
      "include_colab_link": true
    },
    "kernelspec": {
      "name": "python3",
      "display_name": "Python 3"
    }
  },
  "cells": [
    {
      "cell_type": "markdown",
      "metadata": {
        "id": "view-in-github",
        "colab_type": "text"
      },
      "source": [
        "<a href=\"https://colab.research.google.com/github/yohanesnuwara/reservoir-geomechanics/blob/master/unconve/homework%201/homework1_unconve_geomechanics.ipynb\" target=\"_parent\"><img src=\"https://colab.research.google.com/assets/colab-badge.svg\" alt=\"Open In Colab\"/></a>"
      ]
    },
    {
      "cell_type": "markdown",
      "metadata": {
        "id": "ZWxpdZRPJUgA",
        "colab_type": "text"
      },
      "source": [
        "# **Homework 1. State of Stress in Unconventional Reservoirs**"
      ]
    },
    {
      "cell_type": "code",
      "metadata": {
        "id": "3EyoEOXcFtzs",
        "colab_type": "code",
        "colab": {}
      },
      "source": [
        "import numpy as np\n",
        "import matplotlib.pyplot as plt\n",
        "import pandas as pd"
      ],
      "execution_count": 0,
      "outputs": []
    },
    {
      "cell_type": "code",
      "metadata": {
        "id": "xCjMr1vrF61q",
        "colab_type": "code",
        "outputId": "3afb45f9-aa93-4dd8-a105-0e2680120959",
        "colab": {
          "base_uri": "https://localhost:8080/",
          "height": 140
        }
      },
      "source": [
        "!git clone https://github.com/yohanesnuwara/reservoir-geomechanics"
      ],
      "execution_count": 0,
      "outputs": [
        {
          "output_type": "stream",
          "text": [
            "Cloning into 'reservoir-geomechanics'...\n",
            "remote: Enumerating objects: 138, done.\u001b[K\n",
            "remote: Counting objects:   0% (1/138)\u001b[K\rremote: Counting objects:   1% (2/138)\u001b[K\rremote: Counting objects:   2% (3/138)\u001b[K\rremote: Counting objects:   3% (5/138)\u001b[K\rremote: Counting objects:   4% (6/138)\u001b[K\rremote: Counting objects:   5% (7/138)\u001b[K\rremote: Counting objects:   6% (9/138)\u001b[K\rremote: Counting objects:   7% (10/138)\u001b[K\rremote: Counting objects:   8% (12/138)\u001b[K\rremote: Counting objects:   9% (13/138)\u001b[K\rremote: Counting objects:  10% (14/138)\u001b[K\rremote: Counting objects:  11% (16/138)\u001b[K\rremote: Counting objects:  12% (17/138)\u001b[K\rremote: Counting objects:  13% (18/138)\u001b[K\rremote: Counting objects:  14% (20/138)\u001b[K\rremote: Counting objects:  15% (21/138)\u001b[K\rremote: Counting objects:  16% (23/138)\u001b[K\rremote: Counting objects:  17% (24/138)\u001b[K\rremote: Counting objects:  18% (25/138)\u001b[K\rremote: Counting objects:  19% (27/138)\u001b[K\rremote: Counting objects:  20% (28/138)\u001b[K\rremote: Counting objects:  21% (29/138)\u001b[K\rremote: Counting objects:  22% (31/138)\u001b[K\rremote: Counting objects:  23% (32/138)\u001b[K\rremote: Counting objects:  24% (34/138)\u001b[K\rremote: Counting objects:  25% (35/138)\u001b[K\rremote: Counting objects:  26% (36/138)\u001b[K\rremote: Counting objects:  27% (38/138)\u001b[K\rremote: Counting objects:  28% (39/138)\u001b[K\rremote: Counting objects:  29% (41/138)\u001b[K\rremote: Counting objects:  30% (42/138)\u001b[K\rremote: Counting objects:  31% (43/138)\u001b[K\rremote: Counting objects:  32% (45/138)\u001b[K\rremote: Counting objects:  33% (46/138)\u001b[K\rremote: Counting objects:  34% (47/138)\u001b[K\rremote: Counting objects:  35% (49/138)\u001b[K\rremote: Counting objects:  36% (50/138)\u001b[K\rremote: Counting objects:  37% (52/138)\u001b[K\rremote: Counting objects:  38% (53/138)\u001b[K\rremote: Counting objects:  39% (54/138)\u001b[K\rremote: Counting objects:  40% (56/138)\u001b[K\rremote: Counting objects:  41% (57/138)\u001b[K\rremote: Counting objects:  42% (58/138)\u001b[K\rremote: Counting objects:  43% (60/138)\u001b[K\rremote: Counting objects:  44% (61/138)\u001b[K\rremote: Counting objects:  45% (63/138)\u001b[K\rremote: Counting objects:  46% (64/138)\u001b[K\rremote: Counting objects:  47% (65/138)\u001b[K\rremote: Counting objects:  48% (67/138)\u001b[K\rremote: Counting objects:  49% (68/138)\u001b[K\rremote: Counting objects:  50% (69/138)\u001b[K\rremote: Counting objects:  51% (71/138)\u001b[K\rremote: Counting objects:  52% (72/138)\u001b[K\rremote: Counting objects:  53% (74/138)\u001b[K\rremote: Counting objects:  54% (75/138)\u001b[K\rremote: Counting objects:  55% (76/138)\u001b[K\rremote: Counting objects:  56% (78/138)\u001b[K\rremote: Counting objects:  57% (79/138)\u001b[K\rremote: Counting objects:  58% (81/138)\u001b[K\rremote: Counting objects:  59% (82/138)\u001b[K\rremote: Counting objects:  60% (83/138)\u001b[K\rremote: Counting objects:  61% (85/138)\u001b[K\rremote: Counting objects:  62% (86/138)\u001b[K\rremote: Counting objects:  63% (87/138)\u001b[K\rremote: Counting objects:  64% (89/138)\u001b[K\rremote: Counting objects:  65% (90/138)\u001b[K\rremote: Counting objects:  66% (92/138)\u001b[K\rremote: Counting objects:  67% (93/138)\u001b[K\rremote: Counting objects:  68% (94/138)\u001b[K\rremote: Counting objects:  69% (96/138)\u001b[K\rremote: Counting objects:  70% (97/138)\u001b[K\rremote: Counting objects:  71% (98/138)\u001b[K\rremote: Counting objects:  72% (100/138)\u001b[K\rremote: Counting objects:  73% (101/138)\u001b[K\rremote: Counting objects:  74% (103/138)\u001b[K\rremote: Counting objects:  75% (104/138)\u001b[K\rremote: Counting objects:  76% (105/138)\u001b[K\rremote: Counting objects:  77% (107/138)\u001b[K\rremote: Counting objects:  78% (108/138)\u001b[K\rremote: Counting objects:  79% (110/138)\u001b[K\rremote: Counting objects:  80% (111/138)\u001b[K\rremote: Counting objects:  81% (112/138)\u001b[K\rremote: Counting objects:  82% (114/138)\u001b[K\rremote: Counting objects:  83% (115/138)\u001b[K\rremote: Counting objects:  84% (116/138)\u001b[K\rremote: Counting objects:  85% (118/138)\u001b[K\rremote: Counting objects:  86% (119/138)\u001b[K\rremote: Counting objects:  87% (121/138)\u001b[K\rremote: Counting objects:  88% (122/138)\u001b[K\rremote: Counting objects:  89% (123/138)\u001b[K\rremote: Counting objects:  90% (125/138)\u001b[K\rremote: Counting objects:  91% (126/138)\u001b[K\rremote: Counting objects:  92% (127/138)\u001b[K\rremote: Counting objects:  93% (129/138)\u001b[K\rremote: Counting objects:  94% (130/138)\u001b[K\rremote: Counting objects:  95% (132/138)\u001b[K\rremote: Counting objects:  96% (133/138)\u001b[K\rremote: Counting objects:  97% (134/138)\u001b[K\rremote: Counting objects:  98% (136/138)\u001b[K\rremote: Counting objects:  99% (137/138)\u001b[K\rremote: Counting objects: 100% (138/138)\u001b[K\rremote: Counting objects: 100% (138/138), done.\u001b[K\n",
            "remote: Compressing objects:   0% (1/132)\u001b[K\rremote: Compressing objects:   1% (2/132)\u001b[K\rremote: Compressing objects:   2% (3/132)\u001b[K\rremote: Compressing objects:   3% (4/132)\u001b[K\rremote: Compressing objects:   4% (6/132)\u001b[K\rremote: Compressing objects:   5% (7/132)\u001b[K\rremote: Compressing objects:   6% (8/132)\u001b[K\rremote: Compressing objects:   7% (10/132)\u001b[K\rremote: Compressing objects:   8% (11/132)\u001b[K\rremote: Compressing objects:   9% (12/132)\u001b[K\rremote: Compressing objects:  10% (14/132)\u001b[K\rremote: Compressing objects:  11% (15/132)\u001b[K\rremote: Compressing objects:  12% (16/132)\u001b[K\rremote: Compressing objects:  13% (18/132)\u001b[K\rremote: Compressing objects:  14% (19/132)\u001b[K\rremote: Compressing objects:  15% (20/132)\u001b[K\rremote: Compressing objects:  16% (22/132)\u001b[K\rremote: Compressing objects:  17% (23/132)\u001b[K\rremote: Compressing objects:  18% (24/132)\u001b[K\rremote: Compressing objects:  19% (26/132)\u001b[K\rremote: Compressing objects:  20% (27/132)\u001b[K\rremote: Compressing objects:  21% (28/132)\u001b[K\rremote: Compressing objects:  22% (30/132)\u001b[K\rremote: Compressing objects:  23% (31/132)\u001b[K\rremote: Compressing objects:  24% (32/132)\u001b[K\rremote: Compressing objects:  25% (33/132)\u001b[K\rremote: Compressing objects:  26% (35/132)\u001b[K\rremote: Compressing objects:  27% (36/132)\u001b[K\rremote: Compressing objects:  28% (37/132)\u001b[K\rremote: Compressing objects:  29% (39/132)\u001b[K\rremote: Compressing objects:  30% (40/132)\u001b[K\rremote: Compressing objects:  31% (41/132)\u001b[K\rremote: Compressing objects:  32% (43/132)\u001b[K\rremote: Compressing objects:  33% (44/132)\u001b[K\rremote: Compressing objects:  34% (45/132)\u001b[K\rremote: Compressing objects:  35% (47/132)\u001b[K\rremote: Compressing objects:  36% (48/132)\u001b[K\rremote: Compressing objects:  37% (49/132)\u001b[K\rremote: Compressing objects:  38% (51/132)\u001b[K\rremote: Compressing objects:  39% (52/132)\u001b[K\rremote: Compressing objects:  40% (53/132)\u001b[K\rremote: Compressing objects:  41% (55/132)\u001b[K\rremote: Compressing objects:  42% (56/132)\u001b[K\rremote: Compressing objects:  43% (57/132)\u001b[K\rremote: Compressing objects:  44% (59/132)\u001b[K\rremote: Compressing objects:  45% (60/132)\u001b[K\rremote: Compressing objects:  46% (61/132)\u001b[K\rremote: Compressing objects:  47% (63/132)\u001b[K\rremote: Compressing objects:  48% (64/132)\u001b[K\rremote: Compressing objects:  49% (65/132)\u001b[K\rremote: Compressing objects:  50% (66/132)\u001b[K\rremote: Compressing objects:  51% (68/132)\u001b[K\rremote: Compressing objects:  52% (69/132)\u001b[K\rremote: Compressing objects:  53% (70/132)\u001b[K\rremote: Compressing objects:  54% (72/132)\u001b[K\rremote: Compressing objects:  55% (73/132)\u001b[K\rremote: Compressing objects:  56% (74/132)\u001b[K\rremote: Compressing objects:  57% (76/132)\u001b[K\rremote: Compressing objects:  58% (77/132)\u001b[K\rremote: Compressing objects:  59% (78/132)\u001b[K\rremote: Compressing objects:  60% (80/132)\u001b[K\rremote: Compressing objects:  61% (81/132)\u001b[K\rremote: Compressing objects:  62% (82/132)\u001b[K\rremote: Compressing objects:  63% (84/132)\u001b[K\rremote: Compressing objects:  64% (85/132)\u001b[K\rremote: Compressing objects:  65% (86/132)\u001b[K\rremote: Compressing objects:  66% (88/132)\u001b[K\rremote: Compressing objects:  67% (89/132)\u001b[K\rremote: Compressing objects:  68% (90/132)\u001b[K\rremote: Compressing objects:  69% (92/132)\u001b[K\rremote: Compressing objects:  70% (93/132)\u001b[K\rremote: Compressing objects:  71% (94/132)\u001b[K\rremote: Compressing objects:  72% (96/132)\u001b[K\rremote: Compressing objects:  73% (97/132)\u001b[K\rremote: Compressing objects:  74% (98/132)\u001b[K\rremote: Compressing objects:  75% (99/132)\u001b[K\rremote: Compressing objects:  76% (101/132)\u001b[K\rremote: Compressing objects:  77% (102/132)\u001b[K\rremote: Compressing objects:  78% (103/132)\u001b[K\rremote: Compressing objects:  79% (105/132)\u001b[K\rremote: Compressing objects:  80% (106/132)\u001b[K\rremote: Compressing objects:  81% (107/132)\u001b[K\rremote: Compressing objects:  82% (109/132)\u001b[K\rremote: Compressing objects:  83% (110/132)\u001b[K\rremote: Compressing objects:  84% (111/132)\u001b[K\rremote: Compressing objects:  85% (113/132)\u001b[K\rremote: Compressing objects:  86% (114/132)\u001b[K\rremote: Compressing objects:  87% (115/132)\u001b[K\rremote: Compressing objects:  88% (117/132)\u001b[K\rremote: Compressing objects:  89% (118/132)\u001b[K\rremote: Compressing objects:  90% (119/132)\u001b[K\rremote: Compressing objects:  91% (121/132)\u001b[K\rremote: Compressing objects:  92% (122/132)\u001b[K\rremote: Compressing objects:  93% (123/132)\u001b[K\rremote: Compressing objects:  94% (125/132)\u001b[K\rremote: Compressing objects:  95% (126/132)\u001b[K\rremote: Compressing objects:  96% (127/132)\u001b[K\rremote: Compressing objects:  97% (129/132)\u001b[K\rremote: Compressing objects:  98% (130/132)\u001b[K\rremote: Compressing objects:  99% (131/132)\u001b[K\rremote: Compressing objects: 100% (132/132)\u001b[K\rremote: Compressing objects: 100% (132/132), done.\u001b[K\n",
            "Receiving objects:   0% (1/273)   \rReceiving objects:   1% (3/273)   \rReceiving objects:   2% (6/273)   \rReceiving objects:   3% (9/273)   \rReceiving objects:   4% (11/273)   \rReceiving objects:   5% (14/273)   \rReceiving objects:   6% (17/273)   \rReceiving objects:   7% (20/273)   \rReceiving objects:   8% (22/273)   \rReceiving objects:   9% (25/273)   \rReceiving objects:  10% (28/273)   \rReceiving objects:  11% (31/273)   \rReceiving objects:  12% (33/273)   \rReceiving objects:  13% (36/273)   \rReceiving objects:  14% (39/273)   \rReceiving objects:  15% (41/273)   \rReceiving objects:  16% (44/273)   \rReceiving objects:  17% (47/273)   \rReceiving objects:  18% (50/273)   \rReceiving objects:  19% (52/273)   \rReceiving objects:  20% (55/273)   \rReceiving objects:  21% (58/273)   \rReceiving objects:  22% (61/273)   \rReceiving objects:  23% (63/273)   \rReceiving objects:  24% (66/273)   \rReceiving objects:  25% (69/273)   \rReceiving objects:  26% (71/273)   \rReceiving objects:  27% (74/273)   \rReceiving objects:  28% (77/273)   \rReceiving objects:  29% (80/273)   \rReceiving objects:  30% (82/273)   \rReceiving objects:  31% (85/273)   \rReceiving objects:  32% (88/273)   \rReceiving objects:  33% (91/273)   \rReceiving objects:  34% (93/273)   \rReceiving objects:  35% (96/273)   \rReceiving objects:  36% (99/273)   \rReceiving objects:  37% (102/273)   \rReceiving objects:  38% (104/273)   \rReceiving objects:  39% (107/273)   \rReceiving objects:  40% (110/273)   \rReceiving objects:  41% (112/273)   \rReceiving objects:  42% (115/273)   \rReceiving objects:  43% (118/273)   \rReceiving objects:  44% (121/273)   \rReceiving objects:  45% (123/273)   \rReceiving objects:  46% (126/273)   \rReceiving objects:  47% (129/273)   \rReceiving objects:  48% (132/273)   \rReceiving objects:  49% (134/273)   \rReceiving objects:  50% (137/273)   \rReceiving objects:  51% (140/273)   \rReceiving objects:  52% (142/273)   \rReceiving objects:  53% (145/273)   \rReceiving objects:  54% (148/273)   \rReceiving objects:  55% (151/273)   \rReceiving objects:  56% (153/273)   \rReceiving objects:  57% (156/273)   \rReceiving objects:  58% (159/273)   \rReceiving objects:  59% (162/273)   \rReceiving objects:  60% (164/273)   \rReceiving objects:  61% (167/273)   \rReceiving objects:  62% (170/273)   \rReceiving objects:  63% (172/273)   \rReceiving objects:  64% (175/273)   \rReceiving objects:  65% (178/273)   \rReceiving objects:  66% (181/273)   \rReceiving objects:  67% (183/273)   \rReceiving objects:  68% (186/273)   \rReceiving objects:  69% (189/273)   \rReceiving objects:  70% (192/273)   \rReceiving objects:  71% (194/273)   \rReceiving objects:  72% (197/273)   \rReceiving objects:  73% (200/273)   \rReceiving objects:  74% (203/273)   \rReceiving objects:  75% (205/273)   \rReceiving objects:  76% (208/273)   \rReceiving objects:  77% (211/273)   \rReceiving objects:  78% (213/273)   \rReceiving objects:  79% (216/273)   \rReceiving objects:  80% (219/273)   \rReceiving objects:  81% (222/273)   \rReceiving objects:  82% (224/273)   \rReceiving objects:  83% (227/273)   \rReceiving objects:  84% (230/273)   \rReceiving objects:  85% (233/273)   \rremote: Total 273 (delta 59), reused 0 (delta 0), pack-reused 135\u001b[K\n",
            "Receiving objects:  86% (235/273)   \rReceiving objects:  87% (238/273)   \rReceiving objects:  88% (241/273)   \rReceiving objects:  89% (243/273)   \rReceiving objects:  90% (246/273)   \rReceiving objects:  91% (249/273)   \rReceiving objects:  92% (252/273)   \rReceiving objects:  93% (254/273)   \rReceiving objects:  94% (257/273)   \rReceiving objects:  95% (260/273)   \rReceiving objects:  96% (263/273)   \rReceiving objects:  97% (265/273)   \rReceiving objects:  98% (268/273)   \rReceiving objects:  99% (271/273)   \rReceiving objects: 100% (273/273)   \rReceiving objects: 100% (273/273), 14.30 MiB | 34.69 MiB/s, done.\n",
            "Resolving deltas:   0% (0/115)   \rResolving deltas:  22% (26/115)   \rResolving deltas:  26% (30/115)   \rResolving deltas:  33% (38/115)   \rResolving deltas:  34% (40/115)   \rResolving deltas:  35% (41/115)   \rResolving deltas:  37% (43/115)   \rResolving deltas:  38% (44/115)   \rResolving deltas:  39% (45/115)   \rResolving deltas:  46% (53/115)   \rResolving deltas:  78% (90/115)   \rResolving deltas:  86% (99/115)   \rResolving deltas:  88% (102/115)   \rResolving deltas:  90% (104/115)   \rResolving deltas:  93% (107/115)   \rResolving deltas:  95% (110/115)   \rResolving deltas:  96% (111/115)   \rResolving deltas:  99% (114/115)   \rResolving deltas: 100% (115/115)   \rResolving deltas: 100% (115/115), done.\n"
          ],
          "name": "stdout"
        }
      ]
    },
    {
      "cell_type": "markdown",
      "metadata": {
        "id": "xzfgvLe58Vi_",
        "colab_type": "text"
      },
      "source": [
        "## Part 1: Vertical Stress and Gradient"
      ]
    },
    {
      "cell_type": "markdown",
      "metadata": {
        "id": "8cHssT9vJSd6",
        "colab_type": "text"
      },
      "source": [
        "### a. Plot density and function of depth"
      ]
    },
    {
      "cell_type": "code",
      "metadata": {
        "id": "6GKa-1PZGQn6",
        "colab_type": "code",
        "outputId": "8a400f1f-6e3c-48aa-9560-b4758518466c",
        "colab": {
          "base_uri": "https://localhost:8080/",
          "height": 773
        }
      },
      "source": [
        "barnett = np.loadtxt(\"/content/reservoir-geomechanics/unconve/homework 1/barnett_data.txt\", skiprows=1)\n",
        "depth_barnett = barnett[:,0]\n",
        "rho_barnett = barnett[:,1]\n",
        "\n",
        "# plot barnett density data\n",
        "plt.figure(figsize=(5, 13))\n",
        "\n",
        "plt.plot(rho_barnett, depth_barnett, 'r')\n",
        "plt.title(\"Barnett Density Log\", pad=20, size=20)\n",
        "plt.xlabel(\"Density (g/cc)\"); plt.ylabel(\"Depth (ft)\")\n",
        "plt.grid(True)\n",
        "plt.ylim(0, 6300)\n",
        "plt.gca().invert_yaxis()\n",
        "plt.gca().spines['bottom'].set_position('zero')"
      ],
      "execution_count": 0,
      "outputs": [
        {
          "output_type": "display_data",
          "data": {
            "image/png": "[encoded data removed]",
            "text/plain": [
              "<Figure size 360x936 with 1 Axes>"
            ]
          },
          "metadata": {
            "tags": [],
            "needs_background": "light"
          }
        }
      ]
    },
    {
      "cell_type": "markdown",
      "metadata": {
        "id": "VXvQ37EuLbD7",
        "colab_type": "text"
      },
      "source": [
        "### b. Divide the density profile into 5 blocks (averaging the block densities)\n",
        "\n",
        "e.g. 0-500 ft, 500-1000 ft, 1000-3000 ft, 3000-5000 ft, 5000-7000 ft."
      ]
    },
    {
      "cell_type": "code",
      "metadata": {
        "id": "_ekl4bFPLpG6",
        "colab_type": "code",
        "outputId": "bb290cf0-b71d-4dbe-92e4-080a2005207e",
        "colab": {
          "base_uri": "https://localhost:8080/",
          "height": 773
        }
      },
      "source": [
        "index1 = np.int64(np.where(depth_barnett == 500)).item()\n",
        "depth1 = depth_barnett[:index1+1]\n",
        "average_rho1 = np.average(rho_barnett[:index1+1])\n",
        "rho1 = np.full(len(depth1), average_rho1)\n",
        "\n",
        "index2 = np.int64(np.where(depth_barnett == 1000)).item()\n",
        "depth2 = depth_barnett[index1:index2+1]\n",
        "average_rho2 = np.average(rho_barnett[index1:index2+1])\n",
        "rho2 = np.full(len(depth2), average_rho2)\n",
        "\n",
        "index3 = np.int64(np.where(depth_barnett == 3000)).item()\n",
        "depth3 = depth_barnett[index2:index3+1]\n",
        "average_rho3 = np.average(rho_barnett[index2:index3+1])\n",
        "rho3 = np.full(len(depth3), average_rho3)\n",
        "\n",
        "index4 = np.int64(np.where(depth_barnett == 5000)).item()\n",
        "depth4 = depth_barnett[index3:index4+1]\n",
        "average_rho4 = np.average(rho_barnett[index3:index4+1])\n",
        "rho4 = np.full(len(depth4), average_rho4)\n",
        "\n",
        "depth5 = depth_barnett[index4:]\n",
        "average_rho5 = np.average(rho_barnett[index4:])\n",
        "rho5 = np.full(len(depth5), average_rho5)\n",
        "\n",
        "# append\n",
        "depth_block = np.concatenate((depth1, depth2, depth3, depth4, depth5))\n",
        "rho_block = np.concatenate((rho1, rho2, rho3, rho4, rho5))\n",
        "\n",
        "# plot the block density on the continuous log\n",
        "plt.figure(figsize=(5, 13))\n",
        "\n",
        "plt.plot(rho_barnett, depth_barnett, 'r')\n",
        "plt.plot(rho_block, depth_block, '--', color='black')\n",
        "plt.title(\"Barnett Density Log\", pad=20, size=20)\n",
        "plt.xlabel(\"Density (g/cc)\"); plt.ylabel(\"Depth (ft)\")\n",
        "plt.grid(True)\n",
        "plt.ylim(0, 6300)\n",
        "plt.xlim(1.5, 3.5)\n",
        "plt.gca().invert_yaxis()\n",
        "plt.gca().spines['bottom'].set_position('zero')"
      ],
      "execution_count": 0,
      "outputs": [
        {
          "output_type": "display_data",
          "data": {
            "image/png": "[encoded data removed]",
            "text/plain": [
              "<Figure size 360x936 with 1 Axes>"
            ]
          },
          "metadata": {
            "tags": [],
            "needs_background": "light"
          }
        }
      ]
    },
    {
      "cell_type": "markdown",
      "metadata": {
        "id": "MeYe0r2adRiv",
        "colab_type": "text"
      },
      "source": [
        "### c. Calculate the vertical stress (both continuous and blocked log).  Calculate hydrostatic pore pressure gradient."
      ]
    },
    {
      "cell_type": "code",
      "metadata": {
        "id": "bW_tSn-RdqTH",
        "colab_type": "code",
        "outputId": "92efccd6-5f4c-404a-8e38-e51d182136e6",
        "colab": {
          "base_uri": "https://localhost:8080/",
          "height": 773
        }
      },
      "source": [
        "\"calculate overburden stress from continuous log\"\n",
        "\n",
        "# conversion\n",
        "rho_barnett_conv = rho_barnett * 1E+03 # convert g/cm3 to kg/m3\n",
        "\n",
        "thickness_barnett = np.array([j-i for i, j in zip(depth_barnett[:-1], depth_barnett[1:])])\n",
        "thickness_barnett = np.append([(min(depth_barnett) - 0)], thickness_barnett)\n",
        "\n",
        "# multiply thickness by density (barnett)\n",
        "rhogz_barnett = rho_barnett_conv * (thickness_barnett * 0.3048) * 9.8 # thickness divided by 0.3048 to convert ft to m\n",
        "rhogz_barnett = rhogz_barnett * 0.000145038 # convert Pa to psi\n",
        "\n",
        "# cumulative sum, calculate Sv (barnett)\n",
        "sv_barnett = np.cumsum(rhogz_barnett)\n",
        "\n",
        "\"calculate overburden stress from blocky log\"\n",
        "\n",
        "# conversion\n",
        "rho_block_barnett_conv = rho_block * 1E+03 # convert g/cm3 to kg/m3\n",
        "\n",
        "thickness_block_barnett = np.array([j-i for i, j in zip(depth_block[:-1], depth_block[1:])])\n",
        "thickness_block_barnett = np.append([(min(depth_block) - 0)], thickness_block_barnett)\n",
        "\n",
        "# multiply thickness by density (barnett)\n",
        "rhogz_block_barnett = rho_block_barnett_conv * (thickness_block_barnett * 0.3048) * 9.8 # thickness divided by 0.3048 to convert ft to m\n",
        "rhogz_block_barnett = rhogz_block_barnett * 0.000145038 # convert Pa to psi\n",
        "\n",
        "# cumulative sum, calculate Sv (barnett)\n",
        "sv_block_barnett = np.cumsum(rhogz_block_barnett)\n",
        "\n",
        "# hydrostatic pore pressure\n",
        "rhow = 1000 # water density, kg/m3\n",
        "g = 10 # gravitational acceleration, m/s2\n",
        "depth_barnett_m = depth_barnett * 0.3048 # convert ft to m\n",
        "Pp_hydro = (rhow * g * depth_barnett_m) * 0.000145 # Pa to psi\n",
        "\n",
        "# plot barnett Sv, hydrostatic pore pressure result\n",
        "\n",
        "plt.figure(figsize=(5, 13))\n",
        "p1 = plt.plot(sv_barnett, depth_barnett, color='red')\n",
        "p2 = plt.plot(sv_block_barnett, depth_block, '--', color='black')\n",
        "p3 = plt.plot(Pp_hydro, depth_barnett, color='blue')\n",
        "plt.legend((p1[0], p2[0], p3[0]), ('Sv (continuous log)', 'Sv (blocky log)', 'Hydrostatic Pore Pressure'), bbox_to_anchor=(0.04, 0.82, 0.9, 0.102))\n",
        "plt.title(\"Barnett Stress\", pad=20, size=20)\n",
        "plt.xlabel(\"Stress or Pressure (psi)\"); plt.ylabel(\"Depth (ft)\")\n",
        "plt.grid(True)\n",
        "plt.ylim(0, 6200)\n",
        "plt.gca().invert_yaxis()\n",
        "plt.gca().spines['bottom'].set_position('zero')"
      ],
      "execution_count": 0,
      "outputs": [
        {
          "output_type": "display_data",
          "data": {
            "image/png": "[encoded data removed]",
            "text/plain": [
              "<Figure size 360x936 with 1 Axes>"
            ]
          },
          "metadata": {
            "tags": [],
            "needs_background": "light"
          }
        }
      ]
    },
    {
      "cell_type": "markdown",
      "metadata": {
        "id": "CUtL1sKW8GBb",
        "colab_type": "text"
      },
      "source": [
        "### d. Plot vertical stress gradient as a function of depth."
      ]
    },
    {
      "cell_type": "code",
      "metadata": {
        "id": "pPd91YOp9txA",
        "colab_type": "code",
        "outputId": "bda6df78-4f00-4cfa-ecdc-2019eeeb4744",
        "colab": {
          "base_uri": "https://localhost:8080/",
          "height": 843
        }
      },
      "source": [
        "sv_grad = sv_barnett / depth_barnett\n",
        "sv_grad_block = sv_block_barnett / depth_block\n",
        "\n",
        "plt.figure(figsize=(5, 13))\n",
        "p1 = plt.plot(sv_grad, depth_barnett, color='red')\n",
        "p2 = plt.plot(sv_grad_block, depth_block, '--', color='black')\n",
        "plt.legend((p1[0], p2[0]), ('Sv (continuous log)', 'Sv (blocky log)'), bbox_to_anchor=(0.04, 0.82, 0.9, 0.102))\n",
        "plt.title(\"Barnett Stress Gradient\", pad=20, size=20)\n",
        "plt.xlabel(\"Gradient (psi/ft)\"); plt.ylabel(\"Depth (ft)\")\n",
        "plt.grid(True)\n",
        "plt.ylim(0, 6200)\n",
        "plt.gca().invert_yaxis()\n",
        "plt.gca().spines['bottom'].set_position('zero')"
      ],
      "execution_count": 0,
      "outputs": [
        {
          "output_type": "stream",
          "text": [
            "/usr/local/lib/python3.6/dist-packages/ipykernel_launcher.py:1: RuntimeWarning: invalid value encountered in true_divide\n",
            "  \"\"\"Entry point for launching an IPython kernel.\n",
            "/usr/local/lib/python3.6/dist-packages/ipykernel_launcher.py:2: RuntimeWarning: invalid value encountered in true_divide\n",
            "  \n"
          ],
          "name": "stderr"
        },
        {
          "output_type": "display_data",
          "data": {
            "image/png": "[encoded data removed]",
            "text/plain": [
              "<Figure size 360x936 with 1 Axes>"
            ]
          },
          "metadata": {
            "tags": [],
            "needs_background": "light"
          }
        }
      ]
    },
    {
      "cell_type": "markdown",
      "metadata": {
        "id": "POe8Dyv2Dt97",
        "colab_type": "text"
      },
      "source": [
        "## Part 2: Stress Polygon"
      ]
    },
    {
      "cell_type": "markdown",
      "metadata": {
        "id": "KYQnQtS9G2SG",
        "colab_type": "text"
      },
      "source": [
        "### a. Calculate stress magnitude constraints for each faulting regime for ISIP = 38 MPa."
      ]
    },
    {
      "cell_type": "code",
      "metadata": {
        "id": "_itXbn9lEiE7",
        "colab_type": "code",
        "outputId": "3afcd207-3966-4439-a73b-d91762eeaf38",
        "colab": {
          "base_uri": "https://localhost:8080/",
          "height": 87
        }
      },
      "source": [
        "# known\n",
        "depth = 5500 # ft\n",
        "mu = 0.6 # frictional sliding coeff\n",
        "Pp_grad = 0.5 # psi/ft\n",
        "\n",
        "Pp = depth * Pp_grad # pore pressure at depth\n",
        "\n",
        "# Sv at depth 5500 ft\n",
        "find5500 = np.int64(np.where(depth_barnett == depth)).item()\n",
        "Sv = sv_barnett[find5500]\n",
        "\n",
        "Sh = 38 * 145 # MPa to psi, ISIP value from DSIT test, at 5500 ft\n",
        "\n",
        "print('Pore pressure at depth', depth, 'ft:', Pp, 'psi')\n",
        "print('Vertical stress at depth', depth, 'ft:', Sv, 'psi')\n",
        "print('Minimum horizontal stress from ISIP value taken from DSIT at depth', depth, 'ft:', Sh, 'psi')\n",
        "\n",
        "# identify where our stress regime is in\n",
        "if Sh < Sv:\n",
        "  print('Our stress regime is in: NF (normal faulting) or SS (strike slip)')\n",
        "if Sh > Sv:\n",
        "  print('Our stress regime is in: RF (reverse faulting)')"
      ],
      "execution_count": 0,
      "outputs": [
        {
          "output_type": "stream",
          "text": [
            "Pore pressure at depth 5500 ft: 2750.0 psi\n",
            "Vertical stress at depth 5500 ft: 6049.115336827512 psi\n",
            "Minimum horizontal stress from ISIP value taken from DSIT at depth 5500 ft: 5510 psi\n",
            "Our stress regime is in: NF (normal faulting) or SS (strike slip)\n"
          ],
          "name": "stdout"
        }
      ]
    },
    {
      "cell_type": "markdown",
      "metadata": {
        "id": "ktrStcI0WglO",
        "colab_type": "text"
      },
      "source": [
        "#### General constraints\n",
        "\n",
        "![stress-poly](https://user-images.githubusercontent.com/51282928/79632076-33550780-8187-11ea-971b-26a866428990.png)"
      ]
    },
    {
      "cell_type": "code",
      "metadata": {
        "id": "mbXM0j9_V24T",
        "colab_type": "code",
        "outputId": "009536eb-d9b3-412f-fedd-4394d6233241",
        "colab": {
          "base_uri": "https://localhost:8080/",
          "height": 316
        }
      },
      "source": [
        "# GENERAL constraints for stresses\n",
        "# ratio of S1-Pp to S3-Pp\n",
        "ratio = (np.sqrt((mu**2) + 1) + mu)**2\n",
        "\n",
        "# constraints for NF: Sh < SH < Sv\n",
        "Sh_lower_NF = ((Sv - Pp) / ratio) + Pp\n",
        "Sh_upper_NF = Sv\n",
        "SH_lower_NF = Sh_lower_NF\n",
        "SH_upper_NF = Sv\n",
        "\n",
        "print('Constraints in NF regime:')\n",
        "print('Minimum horizontal stress lower constraint:', Sh_lower_NF, 'psi')\n",
        "print('Minimum horizontal stress upper constraint:', Sh_upper_NF, 'psi')\n",
        "print('Maximum horizontal stress lower constraint:', SH_lower_NF, 'psi')\n",
        "print('Maximum horizontal stress upper constraint:', SH_upper_NF, 'psi \\n')\n",
        "\n",
        "# constraints for SS: Sh < Sv < SH\n",
        "Sh_lower_SS = ((Sv - Pp) / ratio) + Pp\n",
        "Sh_upper_SS = Sv\n",
        "SH_lower_SS = Sv\n",
        "SH_upper_SS = (ratio * (Sv - Pp)) + Pp\n",
        "\n",
        "print('Constraints in SS regime:')\n",
        "print('Minimum horizontal stress lower constraint:', Sh_lower_SS, 'psi')\n",
        "print('Minimum horizontal stress upper constraint:', Sh_upper_SS, 'psi')\n",
        "print('Maximum horizontal stress lower constraint:', SH_lower_SS, 'psi')\n",
        "print('Maximum horizontal stress upper constraint:', SH_upper_SS, 'psi \\n')\n",
        "\n",
        "# constraints for RF: Sv < Sh < SH\n",
        "SH_lower_RF = Sv\n",
        "SH_upper_RF = (ratio * (Sv - Pp)) + Pp\n",
        "Sh_lower_RF = Sv\n",
        "Sh_upper_RF = SH_upper_RF\n",
        "\n",
        "print('Constraints in RF regime:')\n",
        "print('Minimum horizontal stress lower constraint:', Sh_lower_RF, 'psi')\n",
        "print('Minimum horizontal stress upper constraint:', Sh_upper_RF, 'psi')\n",
        "print('Maximum horizontal stress lower constraint:', SH_lower_RF, 'psi')\n",
        "print('Maximum horizontal stress upper constraint:', SH_upper_RF, 'psi')"
      ],
      "execution_count": 0,
      "outputs": [
        {
          "output_type": "stream",
          "text": [
            "Constraints in NF regime:\n",
            "Minimum horizontal stress lower constraint: 3807.602501442303 psi\n",
            "Minimum horizontal stress upper constraint: 6049.115336827512 psi\n",
            "Maximum horizontal stress lower constraint: 3807.602501442303 psi\n",
            "Maximum horizontal stress upper constraint: 6049.115336827512 psi \n",
            "\n",
            "Constraints in SS regime:\n",
            "Minimum horizontal stress lower constraint: 3807.602501442303 psi\n",
            "Minimum horizontal stress upper constraint: 6049.115336827512 psi\n",
            "Maximum horizontal stress lower constraint: 6049.115336827512 psi\n",
            "Maximum horizontal stress upper constraint: 13041.354257244337 psi \n",
            "\n",
            "Constraints in RF regime:\n",
            "Minimum horizontal stress lower constraint: 6049.115336827512 psi\n",
            "Minimum horizontal stress upper constraint: 13041.354257244337 psi\n",
            "Maximum horizontal stress lower constraint: 6049.115336827512 psi\n",
            "Maximum horizontal stress upper constraint: 13041.354257244337 psi\n"
          ],
          "name": "stdout"
        }
      ]
    },
    {
      "cell_type": "markdown",
      "metadata": {
        "id": "iQbQ4hOBWqnU",
        "colab_type": "text"
      },
      "source": [
        "#### Local constraint (based on data ISIP = 38 MPa)\n",
        "\n",
        "![homework1-stress-poly](https://user-images.githubusercontent.com/51282928/79631632-d5bfbb80-8184-11ea-812c-b109c5869c07.png)"
      ]
    },
    {
      "cell_type": "code",
      "metadata": {
        "id": "Dywf9EA0W1CT",
        "colab_type": "code",
        "outputId": "34479843-d7ba-4d23-b0f8-08708c49c5e9",
        "colab": {
          "base_uri": "https://localhost:8080/",
          "height": 52
        }
      },
      "source": [
        "# lower constraint of SH at ISIP (Shmin) 38 MPa\n",
        "SH38_lower = Sh\n",
        "print('Lower constraint of maximum horizontal stress given ISIP', Sh, 'psi:', SH38_lower, 'psi')\n",
        "\n",
        "# upper constraint of SH at ISIP (Shmin) 38 MPa\n",
        "SH38_upper = (ratio * (Sh - Pp)) + Pp\n",
        "print('Upper constraint of maximum horizontal stress given ISIP', Sh, 'psi:', SH38_upper, 'psi')"
      ],
      "execution_count": 0,
      "outputs": [
        {
          "output_type": "stream",
          "text": [
            "Lower constraint of maximum horizontal stress given ISIP 5510 psi: 5510 psi\n",
            "Upper constraint of maximum horizontal stress given ISIP 5510 psi: 11359.622535145527 psi\n"
          ],
          "name": "stdout"
        }
      ]
    },
    {
      "cell_type": "markdown",
      "metadata": {
        "id": "CdGuyA9CU6wr",
        "colab_type": "text"
      },
      "source": [
        "### b. Calculate stress magnitude constraints for each faulting regime for ISIP = 28 MPa."
      ]
    },
    {
      "cell_type": "code",
      "metadata": {
        "id": "L1_fHRdOU8Zo",
        "colab_type": "code",
        "outputId": "db7f6cba-daf1-496a-88db-b82b3330aac9",
        "colab": {
          "base_uri": "https://localhost:8080/",
          "height": 52
        }
      },
      "source": [
        "Sh2 = 28 * 145 # MPa to psi, ISIP value from DSIT test, at 5500 ft\n",
        "print('Minimum horizontal stress from ISIP value taken from DSIT at depth', depth, 'ft:', Sh2, 'psi')\n",
        "\n",
        "# identify where our stress regime is in\n",
        "if Sh2 < Sv:\n",
        "  print('Our stress regime is in: NF (normal faulting) or SS (strike slip)')\n",
        "if Sh2 > Sv:\n",
        "  print('Our stress regime is in: RF (reverse faulting)')"
      ],
      "execution_count": 0,
      "outputs": [
        {
          "output_type": "stream",
          "text": [
            "Minimum horizontal stress from ISIP value taken from DSIT at depth 5500 ft: 4060 psi\n",
            "Our stress regime is in: NF (normal faulting) or SS (strike slip)\n"
          ],
          "name": "stdout"
        }
      ]
    },
    {
      "cell_type": "markdown",
      "metadata": {
        "id": "zhggjNtjVRqo",
        "colab_type": "text"
      },
      "source": [
        "#### Local constraint (based on data ISIP = 28 MPa)\n",
        "\n",
        "![homework1-stress-poly](https://user-images.githubusercontent.com/51282928/79631632-d5bfbb80-8184-11ea-812c-b109c5869c07.png)"
      ]
    },
    {
      "cell_type": "code",
      "metadata": {
        "id": "TUBiIeu3VSO_",
        "colab_type": "code",
        "outputId": "d3f31fee-c351-4e65-ea59-8b2b58c04ca9",
        "colab": {
          "base_uri": "https://localhost:8080/",
          "height": 52
        }
      },
      "source": [
        "# lower constraint of SH at ISIP (Shmin) 28 MPa\n",
        "SH28_lower = Sh2\n",
        "print('Lower constraint of maximum horizontal stress given ISIP', Sh2, 'psi:', SH28_lower, 'psi')\n",
        "\n",
        "# upper constraint of SH at ISIP (Shmin) 28 MPa\n",
        "SH28_upper = (ratio * (Sh2 - Pp)) + Pp\n",
        "print('Upper constraint of maximum horizontal stress given ISIP', Sh2, 'psi:', SH28_upper, 'psi')"
      ],
      "execution_count": 0,
      "outputs": [
        {
          "output_type": "stream",
          "text": [
            "Lower constraint of maximum horizontal stress given ISIP 4060 psi: 4060 psi\n",
            "Upper constraint of maximum horizontal stress given ISIP 4060 psi: 6836.451275739362 psi\n"
          ],
          "name": "stdout"
        }
      ]
    },
    {
      "cell_type": "markdown",
      "metadata": {
        "id": "hEpwFLsjYFmW",
        "colab_type": "text"
      },
      "source": [
        "### c. Construct the stress polygon"
      ]
    },
    {
      "cell_type": "code",
      "metadata": {
        "id": "kxbzcojaYXE_",
        "colab_type": "code",
        "outputId": "525c905e-7a71-4f74-990a-0842c307e066",
        "colab": {
          "base_uri": "https://localhost:8080/",
          "height": 709
        }
      },
      "source": [
        "# access zobackogram function from Res-Geomech folder HW 6\n",
        "import sys, os\n",
        "sys.path.append('/content/reservoir-geomechanics/homework 6')\n",
        "\n",
        "from zobackogram import zobackogram\n",
        "\n",
        "zobackogram(Sv, Pp, mu)"
      ],
      "execution_count": 0,
      "outputs": [
        {
          "output_type": "execute_result",
          "data": {
            "text/plain": [
              "([<matplotlib.lines.Line2D at 0x7f96d654d1d0>],\n",
              " [<matplotlib.lines.Line2D at 0x7f96d654d2e8>],\n",
              " [<matplotlib.lines.Line2D at 0x7f96d654d630>],\n",
              " [<matplotlib.lines.Line2D at 0x7f96d654d9e8>],\n",
              " [<matplotlib.lines.Line2D at 0x7f96d654dd68>])"
            ]
          },
          "metadata": {
            "tags": []
          },
          "execution_count": 89
        },
        {
          "output_type": "display_data",
          "data": {
            "image/png": "[encoded data removed]",
            "text/plain": [
              "<Figure size 720x720 with 1 Axes>"
            ]
          },
          "metadata": {
            "tags": [],
            "needs_background": "light"
          }
        }
      ]
    },
    {
      "cell_type": "markdown",
      "metadata": {
        "id": "0jVDxJT-ZVgk",
        "colab_type": "text"
      },
      "source": [
        "### d. Repeat (a) and (c) using a pore pressure gradient of 0.7 psi/ft."
      ]
    },
    {
      "cell_type": "code",
      "metadata": {
        "id": "3YyF6gR9ZgWq",
        "colab_type": "code",
        "outputId": "06348e7e-b48c-407a-973e-d5931b50ac3a",
        "colab": {
          "base_uri": "https://localhost:8080/",
          "height": 744
        }
      },
      "source": [
        "Pp_grad2 = 0.7 # psi/ft\n",
        "Pp2 = depth * Pp_grad2\n",
        "print('Pore pressure at depth', depth, 'ft:', Pp2, 'psi \\n')\n",
        "\n",
        "zobackogram(Sv, Pp2, mu)"
      ],
      "execution_count": 0,
      "outputs": [
        {
          "output_type": "stream",
          "text": [
            "Pore pressure at depth 5500 ft: 3849.9999999999995 psi \n",
            "\n"
          ],
          "name": "stdout"
        },
        {
          "output_type": "execute_result",
          "data": {
            "text/plain": [
              "([<matplotlib.lines.Line2D at 0x7f96d6704908>],\n",
              " [<matplotlib.lines.Line2D at 0x7f96d67040b8>],\n",
              " [<matplotlib.lines.Line2D at 0x7f96d6695f28>],\n",
              " [<matplotlib.lines.Line2D at 0x7f96d66953c8>],\n",
              " [<matplotlib.lines.Line2D at 0x7f96d6695400>])"
            ]
          },
          "metadata": {
            "tags": []
          },
          "execution_count": 124
        },
        {
          "output_type": "display_data",
          "data": {
            "image/png": "[encoded data removed]",
            "text/plain": [
              "<Figure size 720x720 with 1 Axes>"
            ]
          },
          "metadata": {
            "tags": [],
            "needs_background": "light"
          }
        }
      ]
    },
    {
      "cell_type": "markdown",
      "metadata": {
        "id": "Kck1WywP4Vyw",
        "colab_type": "text"
      },
      "source": [
        "#### General constraints"
      ]
    },
    {
      "cell_type": "code",
      "metadata": {
        "id": "p-87YKFO4Fbh",
        "colab_type": "code",
        "outputId": "6257f2e5-2cd2-4d9f-ab6d-9be8aea51236",
        "colab": {
          "base_uri": "https://localhost:8080/",
          "height": 52
        }
      },
      "source": [
        "# upper constraint SHmax in RF regime for new pore pressure gradient 0.7 psi/ft\n",
        "SH_upper2_RF = (ratio * (Sv - Pp2)) + Pp2\n",
        "print('Maximum horizontal stress upper constraint:', SH_upper2_RF, 'psi')\n",
        "\n",
        "# lower constraint Shmin in NF regime for new pore pressure gradient 0.7 psi/ft\n",
        "Sh_lower2_NF = ((Sv - Pp2) / ratio) + Pp2\n",
        "print('Minimum horizontal stress lower constraint:', Sh_lower2_NF, 'psi')"
      ],
      "execution_count": 0,
      "outputs": [
        {
          "output_type": "stream",
          "text": [
            "Maximum horizontal stress upper constraint: 10709.982957005179 psi\n",
            "Minimum horizontal stress lower constraint: 4554.973801681463 psi\n"
          ],
          "name": "stdout"
        }
      ]
    },
    {
      "cell_type": "markdown",
      "metadata": {
        "id": "AAYEnS8o6dmk",
        "colab_type": "text"
      },
      "source": [
        "#### Local constraint (based on data ISIP = 38 MPa)"
      ]
    },
    {
      "cell_type": "code",
      "metadata": {
        "id": "c1zoRDMT62Db",
        "colab_type": "code",
        "outputId": "6348b3bb-c0b5-4505-e5ec-2c7fb9c811c9",
        "colab": {
          "base_uri": "https://localhost:8080/",
          "height": 52
        }
      },
      "source": [
        "# lower constraint of SH at ISIP (Shmin) 38 MPa for new pore pressure gradient 0.7 psi/ft\n",
        "SH38_lower2 = Sh\n",
        "print('Lower constraint of maximum horizontal stress given ISIP', Sh, 'psi:', SH38_lower2, 'psi')\n",
        "\n",
        "# upper constraint of SH at ISIP (Shmin) 38 MPa for new pore pressure gradient 0.7 psi/ft\n",
        "SH38_upper2 = (ratio * (Sh - Pp2)) + Pp2\n",
        "print('Upper constraint of maximum horizontal stress given ISIP', Sh, 'psi:', SH38_upper2, 'psi')"
      ],
      "execution_count": 0,
      "outputs": [
        {
          "output_type": "stream",
          "text": [
            "Lower constraint of maximum horizontal stress given ISIP 5510 psi: 5510 psi\n",
            "Upper constraint of maximum horizontal stress given ISIP 5510 psi: 9028.251234906369 psi\n"
          ],
          "name": "stdout"
        }
      ]
    },
    {
      "cell_type": "markdown",
      "metadata": {
        "id": "vUQ1FTTtauZ5",
        "colab_type": "text"
      },
      "source": [
        "## Questions"
      ]
    },
    {
      "cell_type": "markdown",
      "metadata": {
        "id": "I_LcXVk7awR3",
        "colab_type": "text"
      },
      "source": [
        "### Question 1. What is the logged density in the Barnett shale at 5500 ft depth in g/cc?"
      ]
    },
    {
      "cell_type": "code",
      "metadata": {
        "id": "KqvfPr_Tsq4h",
        "colab_type": "code",
        "outputId": "a623013e-10b1-4539-fa09-75544ac4a046",
        "colab": {
          "base_uri": "https://localhost:8080/",
          "height": 34
        }
      },
      "source": [
        "rho5500 = rho_barnett[find5500]\n",
        "print('Density at depth', depth, 'ft is:', rho5500, 'g/cc')"
      ],
      "execution_count": 0,
      "outputs": [
        {
          "output_type": "stream",
          "text": [
            "Density at depth 5500 ft is: 2.594 g/cc\n"
          ],
          "name": "stdout"
        }
      ]
    },
    {
      "cell_type": "markdown",
      "metadata": {
        "id": "VBd3mpqwtq2i",
        "colab_type": "text"
      },
      "source": [
        "### Question 2. What is the vertical stress and pore pressure in the Barnett shale well at 5500 ft depth in MPa? (Refer to Part 1c)"
      ]
    },
    {
      "cell_type": "code",
      "metadata": {
        "id": "7LMOLwettuX9",
        "colab_type": "code",
        "outputId": "8fa55862-5f60-4467-faeb-b117575ff9da",
        "colab": {
          "base_uri": "https://localhost:8080/",
          "height": 52
        }
      },
      "source": [
        "print('Vertical stress at depth', depth, 'ft:', Sv / 145, 'MPa')\n",
        "print('Pore pressure at depth', depth, 'ft:', Pp_hydro[find5500] / 145, 'MPa')"
      ],
      "execution_count": 0,
      "outputs": [
        {
          "output_type": "stream",
          "text": [
            "Vertical stress at depth 5500 ft: 41.71803680570698 MPa\n",
            "Pore pressure at depth 5500 ft: 16.764000000000003 MPa\n"
          ],
          "name": "stdout"
        }
      ]
    },
    {
      "cell_type": "markdown",
      "metadata": {
        "id": "D_C2J4y0wyXa",
        "colab_type": "text"
      },
      "source": [
        "### Question 3. What is the vertical stress gradient in the Barnett shale well at 5500 ft depth in psi/ft? (Refer to Part 1d)"
      ]
    },
    {
      "cell_type": "code",
      "metadata": {
        "id": "jcz3IHGjxAQZ",
        "colab_type": "code",
        "outputId": "457b36c5-7b98-4e7e-e117-4459021fd308",
        "colab": {
          "base_uri": "https://localhost:8080/",
          "height": 34
        }
      },
      "source": [
        "sv_grad5500 = sv_grad[find5500]\n",
        "print('Vertical stress gradient at depth', depth, 'ft is:', sv_grad5500, 'psi/ft')"
      ],
      "execution_count": 0,
      "outputs": [
        {
          "output_type": "stream",
          "text": [
            "Vertical stress gradient at depth 5500 ft is: 1.0998391521504567 psi/ft\n"
          ],
          "name": "stdout"
        }
      ]
    },
    {
      "cell_type": "markdown",
      "metadata": {
        "id": "bRH4OGMKxhVB",
        "colab_type": "text"
      },
      "source": [
        "### Question 4. Refer to Part 2a and 2c"
      ]
    },
    {
      "cell_type": "markdown",
      "metadata": {
        "id": "SoVUj70myU6X",
        "colab_type": "text"
      },
      "source": [
        "#### What is the upper bound on SHmax from reverse faulting in MPa?"
      ]
    },
    {
      "cell_type": "code",
      "metadata": {
        "id": "G_iZn5ocybMx",
        "colab_type": "code",
        "outputId": "a53988f2-07c9-4681-f718-f66e6eae4cb9",
        "colab": {
          "base_uri": "https://localhost:8080/",
          "height": 34
        }
      },
      "source": [
        "print('Maximum horizontal stress upper constraint:', SH_upper_RF / 145, 'MPa')"
      ],
      "execution_count": 0,
      "outputs": [
        {
          "output_type": "stream",
          "text": [
            "Maximum horizontal stress upper constraint: 89.94037418789198 MPa\n"
          ],
          "name": "stdout"
        }
      ]
    },
    {
      "cell_type": "markdown",
      "metadata": {
        "id": "FG5R5yDDyu_E",
        "colab_type": "text"
      },
      "source": [
        "#### What is the lower bound on Shmin from normal faulting in MPa?"
      ]
    },
    {
      "cell_type": "code",
      "metadata": {
        "id": "C_azZncyy2JK",
        "colab_type": "code",
        "outputId": "e26ef813-c9c5-4c96-dda2-49b92161a89b",
        "colab": {
          "base_uri": "https://localhost:8080/",
          "height": 34
        }
      },
      "source": [
        "print('Minimum horizontal stress lower constraint:', Sh_lower_NF / 145, 'MPa')"
      ],
      "execution_count": 0,
      "outputs": [
        {
          "output_type": "stream",
          "text": [
            "Minimum horizontal stress lower constraint: 26.259327596153813 MPa\n"
          ],
          "name": "stdout"
        }
      ]
    },
    {
      "cell_type": "markdown",
      "metadata": {
        "id": "tiW0v-hjzfdl",
        "colab_type": "text"
      },
      "source": [
        "#### Given an ISIP of 38 MPa, what is the upper bound on SHmax in MPa?"
      ]
    },
    {
      "cell_type": "code",
      "metadata": {
        "id": "hgRgSxqlzhNj",
        "colab_type": "code",
        "outputId": "b6c8261e-f381-4177-c524-da1bd9bf8096",
        "colab": {
          "base_uri": "https://localhost:8080/",
          "height": 34
        }
      },
      "source": [
        "SH38_upper = (ratio * (Sh - Pp)) + Pp\n",
        "print('Lower constraint of maximum horizontal stress given ISIP', Sh, 'psi:', SH38_upper / 145, 'MPa')"
      ],
      "execution_count": 0,
      "outputs": [
        {
          "output_type": "stream",
          "text": [
            "Lower constraint of maximum horizontal stress given ISIP 5510 psi: 78.34222438031398 MPa\n"
          ],
          "name": "stdout"
        }
      ]
    },
    {
      "cell_type": "markdown",
      "metadata": {
        "id": "evJ-Jzo02QoL",
        "colab_type": "text"
      },
      "source": [
        "#### Given an ISIP of 38 MPa, what is the lower bound on Shmin in MPa?"
      ]
    },
    {
      "cell_type": "code",
      "metadata": {
        "id": "oP0gJR_HzqfR",
        "colab_type": "code",
        "outputId": "c9af4739-a8a6-4690-8eee-46c93e62fd05",
        "colab": {
          "base_uri": "https://localhost:8080/",
          "height": 34
        }
      },
      "source": [
        "SH38_lower = Sh\n",
        "print('Lower constraint of maximum horizontal stress given ISIP', Sh, 'psi:', SH38_lower / 145, 'MPa')"
      ],
      "execution_count": 0,
      "outputs": [
        {
          "output_type": "stream",
          "text": [
            "Lower constraint of maximum horizontal stress given ISIP 5510 psi: 38.0 MPa\n"
          ],
          "name": "stdout"
        }
      ]
    },
    {
      "cell_type": "markdown",
      "metadata": {
        "id": "_qXOB1E21RZd",
        "colab_type": "text"
      },
      "source": [
        "### Question 5. Given an ISIP of 38 MPa, which of the following stress states are possible?"
      ]
    },
    {
      "cell_type": "code",
      "metadata": {
        "id": "8qFcVNBr1sWE",
        "colab_type": "code",
        "outputId": "3cc20296-87e8-4f97-b1de-6bef3636f27f",
        "colab": {
          "base_uri": "https://localhost:8080/",
          "height": 34
        }
      },
      "source": [
        "# identify where our stress regime is in\n",
        "if Sh < Sv:\n",
        "  print('Our stress regime is in: NF (normal faulting) or SS (strike slip)')\n",
        "if Sh > Sv:\n",
        "  print('Our stress regime is in: RF (reverse faulting)')"
      ],
      "execution_count": 0,
      "outputs": [
        {
          "output_type": "stream",
          "text": [
            "Our stress regime is in: NF (normal faulting) or SS (strike slip)\n"
          ],
          "name": "stdout"
        }
      ]
    },
    {
      "cell_type": "markdown",
      "metadata": {
        "id": "DxPJL4fi1xW2",
        "colab_type": "text"
      },
      "source": [
        "### Question 6. Refer to Part 2b"
      ]
    },
    {
      "cell_type": "markdown",
      "metadata": {
        "id": "55akSTLH2jhF",
        "colab_type": "text"
      },
      "source": [
        "#### Given an ISIP of 28 MPa, what is the upper bound on SHmax in MPa?"
      ]
    },
    {
      "cell_type": "code",
      "metadata": {
        "id": "RkCwEMB415KE",
        "colab_type": "code",
        "outputId": "2a8ce92f-81de-4ff3-ddc4-50c0cb4eccde",
        "colab": {
          "base_uri": "https://localhost:8080/",
          "height": 34
        }
      },
      "source": [
        "SH28_upper = (ratio * (Sh2 - Pp)) + Pp\n",
        "print('Lower constraint of maximum horizontal stress given ISIP', Sh2, 'psi:', SH28_upper / 145, 'psi')"
      ],
      "execution_count": 0,
      "outputs": [
        {
          "output_type": "stream",
          "text": [
            "Lower constraint of maximum horizontal stress given ISIP 4060 psi: 47.14793983268526 psi\n"
          ],
          "name": "stdout"
        }
      ]
    },
    {
      "cell_type": "markdown",
      "metadata": {
        "id": "mnfxm4Jv7-Of",
        "colab_type": "text"
      },
      "source": [
        "#### Given an ISIP of 28 MPa, what is the lower bound on Shmin in MPa?"
      ]
    },
    {
      "cell_type": "code",
      "metadata": {
        "id": "LyaHYBbw2dUn",
        "colab_type": "code",
        "outputId": "73ae23d2-7763-427a-be68-61589ecd2ee8",
        "colab": {
          "base_uri": "https://localhost:8080/",
          "height": 34
        }
      },
      "source": [
        "SH28_lower = Sh2\n",
        "print('Lower constraint of maximum horizontal stress given ISIP', Sh2, 'psi:', SH28_lower / 145, 'psi')"
      ],
      "execution_count": 0,
      "outputs": [
        {
          "output_type": "stream",
          "text": [
            "Lower constraint of maximum horizontal stress given ISIP 4060 psi: 28.0 psi\n"
          ],
          "name": "stdout"
        }
      ]
    },
    {
      "cell_type": "markdown",
      "metadata": {
        "id": "Zs7ir3Dk75Ls",
        "colab_type": "text"
      },
      "source": [
        "### Question 7. Refer to Part 2d"
      ]
    },
    {
      "cell_type": "markdown",
      "metadata": {
        "id": "9_NU3gNPQJly",
        "colab_type": "text"
      },
      "source": [
        "#### What is the upper bound on SHmax from reverse faulting in MPa?"
      ]
    },
    {
      "cell_type": "code",
      "metadata": {
        "id": "Ptx3-nF8QNPP",
        "colab_type": "code",
        "outputId": "dff9d8f4-492b-493a-f2ed-7decbd67cd92",
        "colab": {
          "base_uri": "https://localhost:8080/",
          "height": 34
        }
      },
      "source": [
        "print('Maximum horizontal stress upper constraint:', SH_upper2_RF / 145, 'MPa')"
      ],
      "execution_count": 0,
      "outputs": [
        {
          "output_type": "stream",
          "text": [
            "Maximum horizontal stress upper constraint: 73.86195142762192 MPa\n"
          ],
          "name": "stdout"
        }
      ]
    },
    {
      "cell_type": "markdown",
      "metadata": {
        "id": "YIW1tna_QSlS",
        "colab_type": "text"
      },
      "source": [
        "#### What is the lower bound on Shmin from normal faulting in MPa?"
      ]
    },
    {
      "cell_type": "code",
      "metadata": {
        "id": "hpZeG0ccQV4k",
        "colab_type": "code",
        "outputId": "c327f712-2276-46af-eebf-552f6821a8b1",
        "colab": {
          "base_uri": "https://localhost:8080/",
          "height": 34
        }
      },
      "source": [
        "print('Minimum horizontal stress lower constraint:', Sh_lower2_NF / 145, 'MPa')"
      ],
      "execution_count": 0,
      "outputs": [
        {
          "output_type": "stream",
          "text": [
            "Minimum horizontal stress lower constraint: 31.4136124253894 MPa\n"
          ],
          "name": "stdout"
        }
      ]
    },
    {
      "cell_type": "markdown",
      "metadata": {
        "id": "Bein0A1gQZgy",
        "colab_type": "text"
      },
      "source": [
        "#### Given an ISIP of 38 MPa, what is the upper bound on SHmax in MPa?"
      ]
    },
    {
      "cell_type": "code",
      "metadata": {
        "id": "hz0kk1L5QdOX",
        "colab_type": "code",
        "outputId": "94afb4ae-6624-40ac-e808-0e09a165b8df",
        "colab": {
          "base_uri": "https://localhost:8080/",
          "height": 34
        }
      },
      "source": [
        "print('Upper constraint of maximum horizontal stress given ISIP', Sh, 'psi:', SH38_upper2 / 145, 'MPa')"
      ],
      "execution_count": 0,
      "outputs": [
        {
          "output_type": "stream",
          "text": [
            "Upper constraint of maximum horizontal stress given ISIP 5510 psi: 62.26380162004392 MPa\n"
          ],
          "name": "stdout"
        }
      ]
    },
    {
      "cell_type": "markdown",
      "metadata": {
        "id": "JuN-4D2CQgBw",
        "colab_type": "text"
      },
      "source": [
        "#### Given an ISIP of 38 MPa, what is the lower bound on SHmax in MPa?"
      ]
    },
    {
      "cell_type": "code",
      "metadata": {
        "id": "61lt4oke7o_p",
        "colab_type": "code",
        "outputId": "71ff01c0-be9a-46d9-ca7d-882e5093bed8",
        "colab": {
          "base_uri": "https://localhost:8080/",
          "height": 34
        }
      },
      "source": [
        "print('Lower constraint of maximum horizontal stress given ISIP', Sh, 'psi:', SH38_lower2 / 145, 'MPa')"
      ],
      "execution_count": 0,
      "outputs": [
        {
          "output_type": "stream",
          "text": [
            "Lower constraint of maximum horizontal stress given ISIP 5510 psi: 38.0 MPa\n"
          ],
          "name": "stdout"
        }
      ]
    },
    {
      "cell_type": "markdown",
      "metadata": {
        "id": "v1jwoG0wPrtN",
        "colab_type": "text"
      },
      "source": [
        "### Question 8. How does overpressure affect the stress polygon and the range of allowable stress states?\n",
        "\n",
        "Answer: Decreases the size of the stress polygon and range of allowable stress states"
      ]
    }
  ]
}
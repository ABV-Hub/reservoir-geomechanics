{
  "nbformat": 4,
  "nbformat_minor": 0,
  "metadata": {
    "colab": {
      "name": "homework2-unconve-geomechanics.ipynb",
      "provenance": [],
      "collapsed_sections": [],
      "toc_visible": true,
      "authorship_tag": "ABX9TyPS5oifEu3Q3uWa8mWz9uUU",
      "include_colab_link": true
    },
    "kernelspec": {
      "name": "python3",
      "display_name": "Python 3"
    }
  },
  "cells": [
    {
      "cell_type": "markdown",
      "metadata": {
        "id": "view-in-github",
        "colab_type": "text"
      },
      "source": [
        "<a href=\"https://colab.research.google.com/github/yohanesnuwara/reservoir-geomechanics/blob/master/unconve/homework%202/homework2_unconve_geomechanics.ipynb\" target=\"_parent\"><img src=\"https://colab.research.google.com/assets/colab-badge.svg\" alt=\"Open In Colab\"/></a>"
      ]
    },
    {
      "cell_type": "markdown",
      "metadata": {
        "id": "RiUlWR-7JbiX",
        "colab_type": "text"
      },
      "source": [
        "# **Homework 2. Composition, Elasticity and Ductility**"
      ]
    },
    {
      "cell_type": "code",
      "metadata": {
        "id": "IFx9mCV-Lp4d",
        "colab_type": "code",
        "colab": {}
      },
      "source": [
        "import numpy as np\n",
        "import matplotlib.pyplot as plt"
      ],
      "execution_count": 0,
      "outputs": []
    },
    {
      "cell_type": "markdown",
      "metadata": {
        "id": "oo8TNWcMLEeO",
        "colab_type": "text"
      },
      "source": [
        "## Part 1. Composition, microstructure, and elastic properties\n"
      ]
    },
    {
      "cell_type": "markdown",
      "metadata": {
        "id": "xDreDuopLTOz",
        "colab_type": "text"
      },
      "source": [
        "### A. Determine the percentage by weight of each components (clay + TOC, QFP, carbonates) from ternary diagram\n",
        "\n",
        "Rule of reading ternary see [here](http://csmgeo.csm.jmu.edu/geollab/fichter/SedRx/readternary.html)\n",
        "\n",
        "![ternary-diagram-hw2](https://user-images.githubusercontent.com/51282928/79852721-3c491180-83f1-11ea-9493-a05fcc0e6492.PNG)"
      ]
    },
    {
      "cell_type": "code",
      "metadata": {
        "id": "4W-bLA-rInjn",
        "colab_type": "code",
        "colab": {}
      },
      "source": [
        "# Barnett\n",
        "barnett_clay = 0.55\n",
        "barnett_carb = 0.05\n",
        "barnett_qfp = 0.4\n",
        "\n",
        "# Eagle Ford\n",
        "eagle_clay = 0.2\n",
        "eagle_carb = 0.65\n",
        "eagle_qfp = 0.15"
      ],
      "execution_count": 0,
      "outputs": []
    },
    {
      "cell_type": "markdown",
      "metadata": {
        "id": "GDM1zyMCMYGc",
        "colab_type": "text"
      },
      "source": [
        "### B. Estimate the density for each sample. "
      ]
    },
    {
      "cell_type": "code",
      "metadata": {
        "id": "7_l00FirMdIK",
        "colab_type": "code",
        "outputId": "3e4d0a86-d62a-4043-cfb4-da879251966f",
        "colab": {
          "base_uri": "https://localhost:8080/",
          "height": 52
        }
      },
      "source": [
        "# mineral densities and modulus (GPa and g/cc)\n",
        "K_qtz = 37; G_qtz = 44; rho_qtz = 2.65\n",
        "K_carb = 70.2; G_carb = 29; rho_carb = 2.71\n",
        "K_clay = 8.5; G_clay = 4.5; rho_clay = 1.95\n",
        "\n",
        "# barnett\n",
        "rho_barnett = (barnett_clay * rho_clay) + (barnett_carb * rho_carb) + (barnett_qfp * rho_qtz)\n",
        "rho_eagle = (eagle_clay * rho_clay) + (eagle_carb * rho_carb) + (eagle_qfp * rho_qtz)\n",
        "\n",
        "print('Estimated density of Barnett 45H sample:', rho_barnett, 'g/cc')\n",
        "print('Estimated density of Eagle Ford 65H sample:', rho_eagle, 'g/cc')"
      ],
      "execution_count": 0,
      "outputs": [
        {
          "output_type": "stream",
          "text": [
            "Estimated density of Barnett 45H sample: 2.268 g/cc\n",
            "Estimated density of Eagle Ford 65H sample: 2.549 g/cc\n"
          ],
          "name": "stdout"
        }
      ]
    },
    {
      "cell_type": "markdown",
      "metadata": {
        "id": "TJgA0HwkuG2s",
        "colab_type": "text"
      },
      "source": [
        "### C. Calculate elastic moduli from ultrasonic measurements\n",
        "\n",
        "$$V_s = \\sqrt{\\frac{G}{\\rho}}$$\n",
        "\n",
        "$$V_p = \\sqrt{\\frac{K+\\frac{4}{3}G}{\\rho}}$$\n",
        "\n",
        "Rearranging gives:\n",
        "\n",
        "$$\\rho V_s^2 = G$$\n",
        "\n",
        "$$\\rho V_p^2 -\\frac{4}{3}G= K$$"
      ]
    },
    {
      "cell_type": "code",
      "metadata": {
        "id": "MhpvaH_zuPy3",
        "colab_type": "code",
        "outputId": "67a5022d-b0e5-4d50-c358-524a37e92946",
        "colab": {
          "base_uri": "https://localhost:8080/",
          "height": 87
        }
      },
      "source": [
        "Vp_eagle = 6000 # m/s\n",
        "Vp_barnett = 5000\n",
        "Vs_eagle = 3300 \n",
        "Vs_barnett = 3200\n",
        "\n",
        "G_barnett = (rho_barnett * 1000) * (Vs_barnett**2) * 1E-09 # convert density from g/cc to kg/m3\n",
        "K_barnett = ((rho_barnett * 1000) * (Vp_barnett**2) * 1E-09) - ((4/3) * G_barnett)\n",
        "G_eagle = (rho_eagle * 1000) * (Vs_eagle**2) * 1E-09 \n",
        "K_eagle = ((rho_eagle * 1000) * (Vp_eagle**2) * 1E-09) - ((4/3) * G_eagle)\n",
        "\n",
        "\n",
        "print('Shear modulus of Barnett 45H sample from ultrasonic measurement:', G_barnett, 'GPa')\n",
        "print('Bulk modulus of Barnett 45H sample from ultrasonic measurement:', K_barnett, 'GPa')\n",
        "print('Shear modulus of Eagle Ford 65H sample from ultrasonic measurement:', G_eagle, 'GPa')\n",
        "print('Bulk modulus of Eagle Ford 65H sample from ultrasonic measurement:', K_eagle, 'GPa')"
      ],
      "execution_count": 0,
      "outputs": [
        {
          "output_type": "stream",
          "text": [
            "Shear modulus of Barnett 45H sample from ultrasonic measurement: 23.224320000000002 GPa\n",
            "Bulk modulus of Barnett 45H sample from ultrasonic measurement: 25.73424 GPa\n",
            "Shear modulus of Eagle Ford 65H sample from ultrasonic measurement: 27.75861 GPa\n",
            "Bulk modulus of Eagle Ford 65H sample from ultrasonic measurement: 54.75252000000001 GPa\n"
          ],
          "name": "stdout"
        }
      ]
    },
    {
      "cell_type": "markdown",
      "metadata": {
        "id": "qBVwwlU92Ccv",
        "colab_type": "text"
      },
      "source": [
        "## D. Calculate eﬀective elastic moduli using Iso-Stress and Iso-Strain Averaging\n",
        "\n",
        "Iso-stress method (Reuss geometric averaging):\n",
        "\n",
        "$$\\frac{1}{M_R} = \\sum_{i=1}^{N} \\frac{f_i}{M_i}$$\n",
        "\n",
        "Iso-strain method (Reuss geometric averaging):\n",
        "\n",
        "$$M_V = \\sum_{i=1}^{N} f_iM_i$$"
      ]
    },
    {
      "cell_type": "code",
      "metadata": {
        "id": "iHl74lNq2Ya1",
        "colab_type": "code",
        "outputId": "9f62349c-a8d6-44fc-927f-c5e9236987c0",
        "colab": {
          "base_uri": "https://localhost:8080/",
          "height": 175
        }
      },
      "source": [
        "barnett_composition = np.array([barnett_clay, barnett_carb, barnett_qfp])\n",
        "eagle_composition = np.array([eagle_clay, eagle_carb, barnett_qfp])\n",
        "\n",
        "Km = np.array([K_clay, K_carb, K_qtz]) # mineral bulk modulus\n",
        "Gm = np.array([G_clay, G_carb, G_qtz]) # mineral shear modulus\n",
        "\n",
        "# iso-stress (reuss lower bound of modulus)\n",
        "Km_inv = 1 / Km; Gm_inv = 1 / Gm\n",
        "\n",
        "Kr_barnett = 1 / (np.sum(barnett_composition * Km_inv))\n",
        "Kr_eagle = 1 / (np.sum(eagle_composition * Km_inv))\n",
        "Gr_barnett = 1 / (np.sum(barnett_composition * Gm_inv))\n",
        "Gr_eagle = 1 / (np.sum(eagle_composition * Gm_inv))\n",
        "\n",
        "# iso-strain (voigt upper bound of modulus)\n",
        "Kv_barnett = (np.sum(barnett_composition * Km))\n",
        "Kv_eagle = (np.sum(eagle_composition * Km))\n",
        "Gv_barnett = (np.sum(barnett_composition * Gm))\n",
        "Gv_eagle = (np.sum(eagle_composition * Gm))\n",
        "\n",
        "print('Reuss lower bound (iso-stress) bulk modulus of Barnett 45H:', Kr_barnett, 'GPa')\n",
        "print('Reuss lower bound (iso-stress) shear modulus of Barnett 45H:', Gr_barnett, 'GPa')\n",
        "print('Voigt upper bound (iso-strain) bulk modulus of Barnett 45H:', Kv_barnett, 'GPa')\n",
        "print('Voigt upper bound (iso-strain) shear modulus of Barnett 45H:', Gv_barnett, 'GPa \\n')\n",
        "\n",
        "print('Reuss lower bound (iso-stress) bulk modulus of Eagle Ford 65H:', Kr_eagle, 'GPa')\n",
        "print('Reuss lower bound (iso-stress) shear modulus of Eagle Ford 65H:', Gr_eagle, 'GPa')\n",
        "print('Voigt upper bound (iso-strain) bulk modulus of Eagle Ford 65H:', Kv_eagle, 'GPa')\n",
        "print('Voigt upper bound (iso-strain) shear modulus of Eagle Ford 65H:', Gv_eagle, 'GPa')"
      ],
      "execution_count": 0,
      "outputs": [
        {
          "output_type": "stream",
          "text": [
            "Reuss lower bound (iso-stress) bulk modulus of Barnett 45H: 13.118376684145634 GPa\n",
            "Reuss lower bound (iso-stress) shear modulus of Barnett 45H: 7.51669066631758 GPa\n",
            "Voigt upper bound (iso-strain) bulk modulus of Barnett 45H: 22.985 GPa\n",
            "Voigt upper bound (iso-strain) shear modulus of Barnett 45H: 21.525000000000002 GPa \n",
            "\n",
            "Reuss lower bound (iso-stress) bulk modulus of Eagle Ford 65H: 22.936052400567224 GPa\n",
            "Reuss lower bound (iso-stress) shear modulus of Eagle Ford 65H: 13.166704884200872 GPa\n",
            "Voigt upper bound (iso-strain) bulk modulus of Eagle Ford 65H: 62.13000000000001 GPa\n",
            "Voigt upper bound (iso-strain) shear modulus of Eagle Ford 65H: 37.35 GPa\n"
          ],
          "name": "stdout"
        }
      ]
    },
    {
      "cell_type": "markdown",
      "metadata": {
        "id": "gVFvfMNGGwxX",
        "colab_type": "text"
      },
      "source": [
        "## Part 2.  Hydraulic fracture propagation in layered media"
      ]
    },
    {
      "cell_type": "markdown",
      "metadata": {
        "id": "DrRBenfvG6Z3",
        "colab_type": "text"
      },
      "source": [
        "### A, B. Calculate net pressure for each layer for 3 ft fracture propagation\n",
        "\n",
        "$$P-S3=\\frac{C}{\\pi \\sqrt{L}}$$\n",
        "\n",
        "Where $(P-S3)$ is net pressure, $K_{IC}$ is the critical stress intensity factor for mode I cracks (KIC), and $L$ is fracture length. \n",
        "\n",
        "![net-pressure-hydraulic](https://user-images.githubusercontent.com/51282928/80018511-4efe3c00-8500-11ea-9b13-c03f02c7bc8c.PNG)"
      ]
    },
    {
      "cell_type": "code",
      "metadata": {
        "id": "JSXr-NgPHPGL",
        "colab_type": "code",
        "outputId": "07229799-c628-4374-d1bc-963236f00166",
        "colab": {
          "base_uri": "https://localhost:8080/",
          "height": 105
        }
      },
      "source": [
        "# minimum horizontal stress of each layer\n",
        "Sh1 = 5150; Sh2 = 4500; Sh3 = 5000; Sh4 = 5050; Sh5 = 6200\n",
        "\n",
        "# critical stress intensity factor for mode I cracks (KIC), psi/sqrt(ft)\n",
        "KIC1 = 500; KIC2 = 300; KIC3 = 600; KIC4 = 200; KIC5 = 400\n",
        "\n",
        "Sh = np.array([Sh1, Sh2, Sh3, Sh4, Sh5])\n",
        "KIC = np.array([KIC1, KIC2, KIC3, KIC4, KIC5])\n",
        "\n",
        "length1 = 3 # fracture length to be propagated, ft\n",
        "\n",
        "netpressure = KIC / (np.pi * np.sqrt(length1))\n",
        "\n",
        "netpressure1_3ft = netpressure[0]\n",
        "netpressure2_3ft = netpressure[1]\n",
        "netpressure3_3ft = netpressure[2]\n",
        "netpressure4_3ft = netpressure[3]\n",
        "netpressure5_3ft = netpressure[4]\n",
        "\n",
        "print('Net pressure for 3 ft fracture propagation in layer 1:', netpressure1_3ft, 'psi')\n",
        "print('Net pressure for 3 ft fracture propagation in layer 2:', netpressure2_3ft, 'psi')\n",
        "print('Net pressure for 3 ft fracture propagation in layer 3:', netpressure3_3ft, 'psi')\n",
        "print('Net pressure for 3 ft fracture propagation in layer 4:', netpressure4_3ft, 'psi')\n",
        "print('Net pressure for 3 ft fracture propagation in layer 5:', netpressure5_3ft, 'psi')"
      ],
      "execution_count": 0,
      "outputs": [
        {
          "output_type": "stream",
          "text": [
            "Net pressure for 3 ft fracture propagation in layer 1: 91.88814923696535 psi\n",
            "Net pressure for 3 ft fracture propagation in layer 2: 55.13288954217921 psi\n",
            "Net pressure for 3 ft fracture propagation in layer 3: 110.26577908435841 psi\n",
            "Net pressure for 3 ft fracture propagation in layer 4: 36.75525969478614 psi\n",
            "Net pressure for 3 ft fracture propagation in layer 5: 73.51051938957228 psi\n"
          ],
          "name": "stdout"
        }
      ]
    },
    {
      "cell_type": "markdown",
      "metadata": {
        "id": "BiGk__xkJ_eU",
        "colab_type": "text"
      },
      "source": [
        "### C. Calculate net pressure for each layer for 1 ft fracture propagation"
      ]
    },
    {
      "cell_type": "code",
      "metadata": {
        "id": "v0pPlCHLKP40",
        "colab_type": "code",
        "outputId": "64025196-e7af-4a55-bef1-e39e99ce2386",
        "colab": {
          "base_uri": "https://localhost:8080/",
          "height": 105
        }
      },
      "source": [
        "length2 = 1 # fracture length to be propagated, ft\n",
        "\n",
        "netpressure = KIC / (np.pi * np.sqrt(length2))\n",
        "\n",
        "netpressure1_1ft = netpressure[0]\n",
        "netpressure2_1ft = netpressure[1]\n",
        "netpressure3_1ft = netpressure[2]\n",
        "netpressure4_1ft = netpressure[3]\n",
        "netpressure5_1ft = netpressure[4]\n",
        "\n",
        "print('Net pressure for 1 ft fracture propagation in layer 1:', netpressure1_1ft, 'psi')\n",
        "print('Net pressure for 1 ft fracture propagation in layer 2:', netpressure2_1ft, 'psi')\n",
        "print('Net pressure for 1 ft fracture propagation in layer 3:', netpressure3_1ft, 'psi')\n",
        "print('Net pressure for 1 ft fracture propagation in layer 4:', netpressure4_1ft, 'psi')\n",
        "print('Net pressure for 1 ft fracture propagation in layer 5:', netpressure5_1ft, 'psi')"
      ],
      "execution_count": 0,
      "outputs": [
        {
          "output_type": "stream",
          "text": [
            "Net pressure for 1 ft fracture propagation in layer 1: 159.15494309189535 psi\n",
            "Net pressure for 1 ft fracture propagation in layer 2: 95.4929658551372 psi\n",
            "Net pressure for 1 ft fracture propagation in layer 3: 190.9859317102744 psi\n",
            "Net pressure for 1 ft fracture propagation in layer 4: 63.66197723675813 psi\n",
            "Net pressure for 1 ft fracture propagation in layer 5: 127.32395447351627 psi\n"
          ],
          "name": "stdout"
        }
      ]
    },
    {
      "cell_type": "markdown",
      "metadata": {
        "id": "7s7WoBGIKg_m",
        "colab_type": "text"
      },
      "source": [
        "## Questions"
      ]
    },
    {
      "cell_type": "markdown",
      "metadata": {
        "id": "DRDSP8z-QYvZ",
        "colab_type": "text"
      },
      "source": [
        "### Q1"
      ]
    },
    {
      "cell_type": "markdown",
      "metadata": {
        "id": "YLZaPdZJQaVm",
        "colab_type": "text"
      },
      "source": [
        "#### What is wt% of carbonates in Eagle Ford 65H? Enter the number as a percentage (e.g., 90)"
      ]
    },
    {
      "cell_type": "code",
      "metadata": {
        "id": "34jP0lfzQcL-",
        "colab_type": "code",
        "outputId": "a741563e-8b19-449f-fd52-14010164807a",
        "colab": {
          "base_uri": "https://localhost:8080/",
          "height": 34
        }
      },
      "source": [
        "print('Carbonate percentage in Eagle Ford 65H:', eagle_carb * 100, '%')"
      ],
      "execution_count": 0,
      "outputs": [
        {
          "output_type": "stream",
          "text": [
            "Carbonate percentage in Eagle Ford 65H: 65.0 %\n"
          ],
          "name": "stdout"
        }
      ]
    },
    {
      "cell_type": "markdown",
      "metadata": {
        "id": "GtcFytOxQ8hE",
        "colab_type": "text"
      },
      "source": [
        "#### What is wt% of QFP in Barnett 25H?"
      ]
    },
    {
      "cell_type": "code",
      "metadata": {
        "id": "9MrNQspyRBdD",
        "colab_type": "code",
        "outputId": "6e73ba26-ac5b-49fb-da17-d405063bf170",
        "colab": {
          "base_uri": "https://localhost:8080/",
          "height": 34
        }
      },
      "source": [
        "print('Quartz-Feldspar-Pyrite percentage in Barnett 25H:', barnett_qfp * 100, '%')"
      ],
      "execution_count": 0,
      "outputs": [
        {
          "output_type": "stream",
          "text": [
            "Quartz-Feldspar-Pyrite percentage in Barnett 25H: 40.0 %\n"
          ],
          "name": "stdout"
        }
      ]
    },
    {
      "cell_type": "markdown",
      "metadata": {
        "id": "m07Ye9lSRPF-",
        "colab_type": "text"
      },
      "source": [
        "#### What is wt% of clay + TOC in Barnett 25H?"
      ]
    },
    {
      "cell_type": "code",
      "metadata": {
        "id": "gd3XUx7YRSsO",
        "colab_type": "code",
        "outputId": "a8e23097-fc5f-41ba-9223-795272b84177",
        "colab": {
          "base_uri": "https://localhost:8080/",
          "height": 34
        }
      },
      "source": [
        "print('Clay+Kerogen percentage in Barnett 25H:', barnett_clay * 100, '%')"
      ],
      "execution_count": 0,
      "outputs": [
        {
          "output_type": "stream",
          "text": [
            "Clay+Kerogen percentage in Barnett 25H: 55.00000000000001 %\n"
          ],
          "name": "stdout"
        }
      ]
    },
    {
      "cell_type": "markdown",
      "metadata": {
        "id": "SideT3G9mvcD",
        "colab_type": "text"
      },
      "source": [
        "### Q2"
      ]
    },
    {
      "cell_type": "markdown",
      "metadata": {
        "id": "BZsNbUjqmxRY",
        "colab_type": "text"
      },
      "source": [
        "#### What is the density of Eagle Ford 65H in g/cc?"
      ]
    },
    {
      "cell_type": "code",
      "metadata": {
        "id": "PiGx3kGHm8SJ",
        "colab_type": "code",
        "outputId": "0cf154a9-2c76-4ae0-8225-631a3435d027",
        "colab": {
          "base_uri": "https://localhost:8080/",
          "height": 34
        }
      },
      "source": [
        "print('Estimated density of Eagle Ford 65H sample:', rho_eagle, 'g/cc')"
      ],
      "execution_count": 0,
      "outputs": [
        {
          "output_type": "stream",
          "text": [
            "Estimated density of Eagle Ford 65H sample: 2.549 g/cc\n"
          ],
          "name": "stdout"
        }
      ]
    },
    {
      "cell_type": "markdown",
      "metadata": {
        "id": "tHfXPlVgnGT3",
        "colab_type": "text"
      },
      "source": [
        "#### What is the density of Barnett 25H in g/cc?"
      ]
    },
    {
      "cell_type": "code",
      "metadata": {
        "id": "osfq75AOnKUy",
        "colab_type": "code",
        "outputId": "bfedf56f-a3c6-447c-8801-d58d0b2314d3",
        "colab": {
          "base_uri": "https://localhost:8080/",
          "height": 34
        }
      },
      "source": [
        "print('Estimated density of Barnett 45H sample:', rho_barnett, 'g/cc')"
      ],
      "execution_count": 0,
      "outputs": [
        {
          "output_type": "stream",
          "text": [
            "Estimated density of Barnett 45H sample: 2.268 g/cc\n"
          ],
          "name": "stdout"
        }
      ]
    },
    {
      "cell_type": "markdown",
      "metadata": {
        "id": "SbtHHdRKnSWy",
        "colab_type": "text"
      },
      "source": [
        "### Q3"
      ]
    },
    {
      "cell_type": "markdown",
      "metadata": {
        "id": "lhaMZAZSnT7f",
        "colab_type": "text"
      },
      "source": [
        "#### What is the bulk modulus of Eagle Ford 65H? Enter your answer in GPa."
      ]
    },
    {
      "cell_type": "code",
      "metadata": {
        "id": "Ho6uUX9xnZlA",
        "colab_type": "code",
        "outputId": "1de76cfe-04ee-4e7f-8b4c-55a83384262c",
        "colab": {
          "base_uri": "https://localhost:8080/",
          "height": 34
        }
      },
      "source": [
        "print('Bulk modulus of Eagle Ford 65H sample from ultrasonic measurement:', K_eagle, 'GPa')"
      ],
      "execution_count": 0,
      "outputs": [
        {
          "output_type": "stream",
          "text": [
            "Bulk modulus of Eagle Ford 65H sample from ultrasonic measurement: 54.75252000000001 GPa\n"
          ],
          "name": "stdout"
        }
      ]
    },
    {
      "cell_type": "markdown",
      "metadata": {
        "id": "kiLw66AlnjOZ",
        "colab_type": "text"
      },
      "source": [
        "#### What is the shear modulus of Eagle Ford 65H? Enter your answer in GPa."
      ]
    },
    {
      "cell_type": "code",
      "metadata": {
        "id": "Xnq28cm7nkVt",
        "colab_type": "code",
        "outputId": "7d15e160-3e01-4e0d-bb33-08cbed5ba2b9",
        "colab": {
          "base_uri": "https://localhost:8080/",
          "height": 34
        }
      },
      "source": [
        "print('Shear modulus of Eagle Ford 65H sample from ultrasonic measurement:', G_eagle, 'GPa')"
      ],
      "execution_count": 0,
      "outputs": [
        {
          "output_type": "stream",
          "text": [
            "Shear modulus of Eagle Ford 65H sample from ultrasonic measurement: 27.75861 GPa\n"
          ],
          "name": "stdout"
        }
      ]
    },
    {
      "cell_type": "markdown",
      "metadata": {
        "id": "yeRonQdhnk2P",
        "colab_type": "text"
      },
      "source": [
        "#### What is the bulk modulus of Barnett 25H? Enter your answer in GPa."
      ]
    },
    {
      "cell_type": "code",
      "metadata": {
        "id": "sg2EGoHrnoIn",
        "colab_type": "code",
        "outputId": "055adf94-6000-402a-ef05-25535694717e",
        "colab": {
          "base_uri": "https://localhost:8080/",
          "height": 34
        }
      },
      "source": [
        "print('Bulk modulus of Barnett 25H sample from ultrasonic measurement:', K_barnett, 'GPa')"
      ],
      "execution_count": 0,
      "outputs": [
        {
          "output_type": "stream",
          "text": [
            "Bulk modulus of Barnett 25H sample from ultrasonic measurement: 25.73424 GPa\n"
          ],
          "name": "stdout"
        }
      ]
    },
    {
      "cell_type": "markdown",
      "metadata": {
        "id": "zdIX3CnAnooQ",
        "colab_type": "text"
      },
      "source": [
        "#### What is the shear modulus of Barnett 25H? Enter your answer in GPa."
      ]
    },
    {
      "cell_type": "code",
      "metadata": {
        "id": "fSPivm--nr7s",
        "colab_type": "code",
        "outputId": "7115030c-1740-413f-e4cf-92e352002ffb",
        "colab": {
          "base_uri": "https://localhost:8080/",
          "height": 34
        }
      },
      "source": [
        "print('Shear modulus of Barnett 25H sample from ultrasonic measurement:', G_barnett, 'GPa')"
      ],
      "execution_count": 0,
      "outputs": [
        {
          "output_type": "stream",
          "text": [
            "Shear modulus of Barnett 25H sample from ultrasonic measurement: 23.224320000000002 GPa\n"
          ],
          "name": "stdout"
        }
      ]
    },
    {
      "cell_type": "markdown",
      "metadata": {
        "id": "pr8vaALmoCHm",
        "colab_type": "text"
      },
      "source": [
        "### Q4"
      ]
    },
    {
      "cell_type": "markdown",
      "metadata": {
        "id": "59huoqcgoEq6",
        "colab_type": "text"
      },
      "source": [
        "#### What is the iso-strain bulk modulus of Barnett 25H? Enter your answer in GPa."
      ]
    },
    {
      "cell_type": "code",
      "metadata": {
        "id": "2dHLu3HgoDt_",
        "colab_type": "code",
        "outputId": "e3cd7bf1-8d5d-4f71-96c5-53a473a48c95",
        "colab": {
          "base_uri": "https://localhost:8080/",
          "height": 34
        }
      },
      "source": [
        "print('Voigt upper bound (iso-strain) bulk modulus of Barnett 45H:', Kv_barnett, 'GPa')"
      ],
      "execution_count": 0,
      "outputs": [
        {
          "output_type": "stream",
          "text": [
            "Voigt upper bound (iso-strain) bulk modulus of Barnett 45H: 22.985 GPa\n"
          ],
          "name": "stdout"
        }
      ]
    },
    {
      "cell_type": "markdown",
      "metadata": {
        "id": "thpcCFZooIqG",
        "colab_type": "text"
      },
      "source": [
        "#### What is the iso-stress bulk modulus of Barnett 25H? Enter your answer in GPa."
      ]
    },
    {
      "cell_type": "code",
      "metadata": {
        "id": "ZNgXcAswoWV2",
        "colab_type": "code",
        "outputId": "be70c4dd-f18f-4d86-c070-985c9dd90992",
        "colab": {
          "base_uri": "https://localhost:8080/",
          "height": 34
        }
      },
      "source": [
        "print('Reuss lower bound (iso-stress) bulk modulus of Barnett 45H:', Kr_barnett, 'GPa')"
      ],
      "execution_count": 0,
      "outputs": [
        {
          "output_type": "stream",
          "text": [
            "Reuss lower bound (iso-stress) bulk modulus of Barnett 45H: 13.118376684145634 GPa\n"
          ],
          "name": "stdout"
        }
      ]
    },
    {
      "cell_type": "markdown",
      "metadata": {
        "id": "tSjZaTF8oW3C",
        "colab_type": "text"
      },
      "source": [
        "#### Using the calculated values in Part 1d, what endmember condition do the ultrasonic velocity measurements represent?\n",
        "\n",
        "Check which end member (iso-strain/iso-stress) is nearer to the calculated effective modulus from ultrasonic measurement"
      ]
    },
    {
      "cell_type": "code",
      "metadata": {
        "id": "qbxfKETYoamQ",
        "colab_type": "code",
        "outputId": "a3c9181e-890c-4bd0-fccf-aa7e1b236e7d",
        "colab": {
          "base_uri": "https://localhost:8080/",
          "height": 34
        }
      },
      "source": [
        "if abs(Kv_barnett - K_barnett) < abs(K_barnett - Kr_barnett):\n",
        "  print('The ultrasonic velocity measurement (nearer to) represents the iso-strain')\n",
        "if abs(Kv_barnett - K_barnett) > abs(K_barnett - Kr_barnett):\n",
        "  print('The ultrasonic velocity measurement (nearer to) represents the iso-stress')"
      ],
      "execution_count": 0,
      "outputs": [
        {
          "output_type": "stream",
          "text": [
            "The ultrasonic velocity measurement (nearer to) represents the iso-strain\n"
          ],
          "name": "stdout"
        }
      ]
    },
    {
      "cell_type": "markdown",
      "metadata": {
        "id": "jfoUD-kiobvG",
        "colab_type": "text"
      },
      "source": [
        "#### Based on your answer above, what orientation is reflected by the ultrasonic velocity measurements?\n",
        "\n",
        "See figure below.\n",
        "\n",
        "* The applied stress direction to an **iso-stress** (represents a vertical sample) is **perpendicular** to bedding. \n",
        "* The applied stress direction to an **iso-strain** (represents a horizontal sample) is **parallel** to bedding. \n",
        "\n",
        "![iso stress iso strain](https://user-images.githubusercontent.com/51282928/80067844-c962a680-8568-11ea-9ab7-928b41e14f09.PNG)"
      ]
    },
    {
      "cell_type": "code",
      "metadata": {
        "id": "OPBrXGbzyMpN",
        "colab_type": "code",
        "outputId": "daebf40c-03ef-4d66-f277-e457577b64ae",
        "colab": {
          "base_uri": "https://localhost:8080/",
          "height": 34
        }
      },
      "source": [
        "print('Because the end member is iso-strain, the ultrasonic velocity measurement is parallel to bedding')"
      ],
      "execution_count": 0,
      "outputs": [
        {
          "output_type": "stream",
          "text": [
            "Because the end member is iso-strain, the ultrasonic velocity measurement is parallel to bedding\n"
          ],
          "name": "stdout"
        }
      ]
    },
    {
      "cell_type": "markdown",
      "metadata": {
        "id": "UvDXmo_XKiku",
        "colab_type": "text"
      },
      "source": [
        "### Q5. Assuming a normal faulting regime, which layer would you stimulate to achieve a wide fracture confined to only one layer?\n",
        "\n",
        "A layer (e.g. layer X) with Shmin lower than both layers above and below it, when a fracture is propagated at layer X, will not propagate vertically"
      ]
    },
    {
      "cell_type": "code",
      "metadata": {
        "id": "yIiJVjTOK1JZ",
        "colab_type": "code",
        "outputId": "eacedf30-1a14-4585-a50f-354612f1315f",
        "colab": {
          "base_uri": "https://localhost:8080/",
          "height": 34
        }
      },
      "source": [
        "print('Minimum horizontal stress for layer 1:', Sh1, 'psi, layer 2:', Sh2, 'psi, layer 3:', Sh3, 'psi, layer 4:', Sh4, 'psi, and layer 5:', Sh5, 'psi')"
      ],
      "execution_count": 0,
      "outputs": [
        {
          "output_type": "stream",
          "text": [
            "Minimum horizontal stress for layer 1: 5150 psi, layer 2: 4500 psi, layer 3: 5000 psi, layer 4: 5050 psi, and layer 5: 6200 psi\n"
          ],
          "name": "stdout"
        }
      ]
    },
    {
      "cell_type": "markdown",
      "metadata": {
        "id": "Xh-jtM1oLm0a",
        "colab_type": "text"
      },
      "source": [
        "So should be in Layer 2, because its Shmin (4500 psi) is lower than the above Layer 1 (Shmin = 5150 psi) and the underneath Layer 3 (Shmin = 5000 psi)"
      ]
    },
    {
      "cell_type": "markdown",
      "metadata": {
        "id": "dG7AR14eL_WY",
        "colab_type": "text"
      },
      "source": [
        "### Q6"
      ]
    },
    {
      "cell_type": "markdown",
      "metadata": {
        "id": "Q10e7bu4MOHh",
        "colab_type": "text"
      },
      "source": [
        "#### What is the net pressure (in psi) required to propagate the fracture at l = 3 ft in Layer 3?"
      ]
    },
    {
      "cell_type": "code",
      "metadata": {
        "id": "KmejbJniMPON",
        "colab_type": "code",
        "outputId": "f525d243-49b8-45e8-c2df-9ce57f86e8c3",
        "colab": {
          "base_uri": "https://localhost:8080/",
          "height": 34
        }
      },
      "source": [
        "print('Net pressure for 3 ft fracture propagation in layer 3:', netpressure3_3ft, 'psi')"
      ],
      "execution_count": 0,
      "outputs": [
        {
          "output_type": "stream",
          "text": [
            "Net pressure for 3 ft fracture propagation in layer 3: 110.26577908435841 psi\n"
          ],
          "name": "stdout"
        }
      ]
    },
    {
      "cell_type": "markdown",
      "metadata": {
        "id": "sFauU4nRMgkW",
        "colab_type": "text"
      },
      "source": [
        "#### What is the net pressure (in psi) required to propagate the fracture at l = 3 ft in Layer 4?"
      ]
    },
    {
      "cell_type": "code",
      "metadata": {
        "id": "Iwl4NnUZMkna",
        "colab_type": "code",
        "outputId": "d8010cc3-cc5c-402b-dce1-4935645eeff4",
        "colab": {
          "base_uri": "https://localhost:8080/",
          "height": 34
        }
      },
      "source": [
        "print('Net pressure for 3 ft fracture propagation in layer 4:', netpressure4_3ft, 'psi')"
      ],
      "execution_count": 0,
      "outputs": [
        {
          "output_type": "stream",
          "text": [
            "Net pressure for 3 ft fracture propagation in layer 4: 36.75525969478614 psi\n"
          ],
          "name": "stdout"
        }
      ]
    },
    {
      "cell_type": "markdown",
      "metadata": {
        "id": "JhYYaIEfMpMg",
        "colab_type": "text"
      },
      "source": [
        "#### What can be said about the relationship about rock tensile strength and hydraulic fracture propagation? Select ALL possible correct answers.\n",
        "\n"
      ]
    },
    {
      "cell_type": "code",
      "metadata": {
        "id": "EV6cRKzbM30G",
        "colab_type": "code",
        "outputId": "d492ed1a-2902-4208-8cdb-84db0c4bd89b",
        "colab": {
          "base_uri": "https://localhost:8080/",
          "height": 52
        }
      },
      "source": [
        "print('Tensile strength is not important because the net pressure to propagate a fracture is small')\n",
        "print('Tensile strength is not important because reservoirs contain fractures, faults, and flaws at all scales')"
      ],
      "execution_count": 0,
      "outputs": [
        {
          "output_type": "stream",
          "text": [
            "Tensile strength is not important because the net pressure to propagate a fracture is small\n",
            "Tensile strength is not important because reservoirs contain fractures, faults, and flaws at all scales\n"
          ],
          "name": "stdout"
        }
      ]
    },
    {
      "cell_type": "markdown",
      "metadata": {
        "id": "FUvLeZVONArC",
        "colab_type": "text"
      },
      "source": [
        "### Q7. "
      ]
    },
    {
      "cell_type": "markdown",
      "metadata": {
        "id": "odeEyUSTNJ2K",
        "colab_type": "text"
      },
      "source": [
        "#### If we apply sufficient pressure to propagate a hydraulic fracture of length l = 1 ft in layer 3, would we expect the fracture to grow vertically into any of the surrounding layers? Which ones? Select ALL possible correct answers."
      ]
    },
    {
      "cell_type": "code",
      "metadata": {
        "id": "vWeHn21WNLB2",
        "colab_type": "code",
        "outputId": "e3f14d4b-cd7d-4d94-90a0-313658427644",
        "colab": {
          "base_uri": "https://localhost:8080/",
          "height": 140
        }
      },
      "source": [
        "print('Minimum horizontal stress for layer 1:', Sh1, 'psi, layer 2:', Sh2, 'psi, layer 3:', Sh3, 'psi, layer 4:', Sh4, 'psi, and layer 5:', Sh5, 'psi \\n')\n",
        "\n",
        "print('Net pressure for 1 ft fracture propagation in layer 1:', netpressure1_1ft, 'psi')\n",
        "print('Net pressure for 1 ft fracture propagation in layer 2:', netpressure2_1ft, 'psi')\n",
        "print('Net pressure for 1 ft fracture propagation in layer 3:', netpressure3_1ft, 'psi')\n",
        "print('Net pressure for 1 ft fracture propagation in layer 4:', netpressure4_1ft, 'psi')\n",
        "print('Net pressure for 1 ft fracture propagation in layer 5:', netpressure5_1ft, 'psi')"
      ],
      "execution_count": 0,
      "outputs": [
        {
          "output_type": "stream",
          "text": [
            "Minimum horizontal stress for layer 1: 5150 psi, layer 2: 4500 psi, layer 3: 5000 psi, layer 4: 5050 psi, and layer 5: 6200 psi \n",
            "\n",
            "Net pressure for 1 ft fracture propagation in layer 1: 159.15494309189535 psi\n",
            "Net pressure for 1 ft fracture propagation in layer 2: 95.4929658551372 psi\n",
            "Net pressure for 1 ft fracture propagation in layer 3: 190.9859317102744 psi\n",
            "Net pressure for 1 ft fracture propagation in layer 4: 63.66197723675813 psi\n",
            "Net pressure for 1 ft fracture propagation in layer 5: 127.32395447351627 psi\n"
          ],
          "name": "stdout"
        }
      ]
    },
    {
      "cell_type": "markdown",
      "metadata": {
        "id": "FAeiE5KINZ3t",
        "colab_type": "text"
      },
      "source": [
        "Quick look from the Shmin, Layer 3 has Shmin = 5000 psi. The above Layer 2 has lower Shmin = 4500 psi. So, fracture likely propagates vertically to Layer 2.\n",
        "\n",
        "Will it propagate vertically to Layer 4. Although Shmin of Layer 4 (5050 psi) is higher than Layer 3, another criteria for propagation is the **pressure required to propagate** (not the net pressure). Pressure is defined as:\n",
        "\n",
        "$$P=(\\frac{K_{IC}}{\\pi \\sqrt{L}})+S3$$\n",
        "\n"
      ]
    },
    {
      "cell_type": "code",
      "metadata": {
        "id": "naadFyWqOB8a",
        "colab_type": "code",
        "outputId": "74af59c4-59e9-4c7f-fe79-201e4c67fad0",
        "colab": {
          "base_uri": "https://localhost:8080/",
          "height": 140
        }
      },
      "source": [
        "print('Pressure required for 1 ft fracture propagation in layer 1:', netpressure1_1ft + Sh1, 'psi')\n",
        "print('Pressure required for 1 ft fracture propagation in layer 2:', netpressure2_1ft + Sh2, 'psi')\n",
        "print('Pressure required for 1 ft fracture propagation in layer 3:', netpressure3_1ft + Sh3, 'psi')\n",
        "print('Pressure required for 1 ft fracture propagation in layer 4:', netpressure4_1ft + Sh4, 'psi')\n",
        "print('Pressure required for 1 ft fracture propagation in layer 5:', netpressure5_1ft + Sh5, 'psi \\n')\n",
        "\n",
        "if (netpressure4_1ft + Sh4) > (netpressure3_1ft + Sh3):\n",
        "  print('Fracture in Layer 3 CANNOT propagate to Layer 4')\n",
        "if (netpressure4_1ft + Sh4) < (netpressure3_1ft + Sh3):\n",
        "  print('Fracture in Layer 3 CAN propagate to Layer 4')"
      ],
      "execution_count": 0,
      "outputs": [
        {
          "output_type": "stream",
          "text": [
            "Pressure required for 1 ft fracture propagation in layer 1: 5309.154943091895 psi\n",
            "Pressure required for 1 ft fracture propagation in layer 2: 4595.492965855137 psi\n",
            "Pressure required for 1 ft fracture propagation in layer 3: 5190.985931710275 psi\n",
            "Pressure required for 1 ft fracture propagation in layer 4: 5113.6619772367585 psi\n",
            "Pressure required for 1 ft fracture propagation in layer 5: 6327.323954473516 psi \n",
            "\n",
            "Fracture in Layer 3 CAN propagate to Layer 4\n"
          ],
          "name": "stdout"
        }
      ]
    },
    {
      "cell_type": "markdown",
      "metadata": {
        "id": "XNOEjqKjP1UR",
        "colab_type": "text"
      },
      "source": [
        "So, fracture in Layer 3 can propagate to Layer 2 and Layer 4\n",
        "\n",
        "Why? Select ALL possible correct answers."
      ]
    },
    {
      "cell_type": "code",
      "metadata": {
        "id": "t1Q86av8P8Oe",
        "colab_type": "code",
        "outputId": "472a4b63-fba6-40ec-d5b3-ced6b50a15ab",
        "colab": {
          "base_uri": "https://localhost:8080/",
          "height": 52
        }
      },
      "source": [
        "print('The minimum horizontal stress in Layer 2 is less than in Layer 3')\n",
        "print('The pressure required to propagate the fracture exceeds the minimum horizontal stress in Layer 4')"
      ],
      "execution_count": 0,
      "outputs": [
        {
          "output_type": "stream",
          "text": [
            "The minimum horizontal stress in Layer 2 is less than in Layer 3\n",
            "The pressure required to propagate the fracture exceeds the minimum horizontal stress in Layer 4\n"
          ],
          "name": "stdout"
        }
      ]
    },
    {
      "cell_type": "code",
      "metadata": {
        "id": "l_uW6UgMQGb_",
        "colab_type": "code",
        "colab": {}
      },
      "source": [
        ""
      ],
      "execution_count": 0,
      "outputs": []
    }
  ]
}